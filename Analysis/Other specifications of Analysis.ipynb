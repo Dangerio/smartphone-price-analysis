{
 "cells": [
  {
   "cell_type": "code",
   "execution_count": 1,
   "id": "6d553e64",
   "metadata": {},
   "outputs": [],
   "source": [
    "#Блок, в рамках которого импотряться математические подсчеты, пандас и нампай\n",
    "import pandas as pd\n",
    "import numpy as np\n",
    "from scipy.stats import iqr\n",
    "from scipy import stats\n",
    "from scipy.stats import skew\n",
    "from scipy.stats import kurtosis\n",
    "import scipy.stats\n",
    "import scipy as sp\n",
    "import scipy.stats as stats\n",
    "from scipy.stats import t\n",
    "\n",
    "#Блок, в рамках которого импотряться графики\n",
    "import plotly.express as px\n",
    "from plotly.subplots import make_subplots\n",
    "import plotly.graph_objects as go\n",
    "import matplotlib.pyplot as plt\n",
    "import seaborn as sns \n",
    "from matplotlib.pyplot import figure\n",
    "sns.set_style('darkgrid')\n",
    "\n",
    "#Блок, в рамках которого импотряться статистические пакеты\n",
    "import statsmodels.api as sm \n",
    "import statsmodels.formula.api as smf \n",
    "from sklearn.preprocessing import OneHotEncoder\n",
    "from statsmodels.stats.outliers_influence import variance_inflation_factor\n",
    "from statsmodels.tools.tools import add_constant\n",
    "from statsmodels.regression.linear_model import OLS\n",
    "from sklearn.decomposition import PCA\n",
    "from statsmodels.stats.diagnostic import het_white, het_goldfeldquandt, het_breuschpagan\n",
    "from statsmodels.stats.outliers_influence import reset_ramsey\n",
    "from statsmodels.stats.diagnostic import compare_encompassing \n",
    "\n",
    "#Блок, в рамках которого импотряться операционные пакеты\n",
    "import os\n",
    "\n",
    "# Блок, в рамках которого импортируются пакеты для визуализации\n",
    "from stargazer.stargazer import Stargazer"
   ]
  },
  {
   "cell_type": "markdown",
   "id": "5d4d81aa",
   "metadata": {},
   "source": [
    "# Содержание работы\n",
    "1. [Объясняющая переменная - RATING](#subparagraph0): Ошибки в форме Уйта, тест Рамсея, тест Харке-Бера\n",
    "2. [Объясняющая переменная - BRAND_* ](#subparagraph1): Ошибки в форме Уйта, тест Рамсея, тест Харке-Бера\n",
    "2. [Объясняющая переменная - YEAR_OF_RELEASE](#subparagraph2): Ошибки в форме Уйта, тест Рамсея, тест Харке-Бера"
   ]
  },
  {
   "cell_type": "code",
   "execution_count": 4,
   "id": "d284e1b8",
   "metadata": {},
   "outputs": [
    {
     "name": "stdout",
     "output_type": "stream",
     "text": [
      "C:\\Users\\Alexandr\\Documents\\GitHub\\smartphone-price-analysis\n"
     ]
    }
   ],
   "source": [
    "cd \"C:\\Users\\Alexandr\\Documents\\GitHub\\smartphone-price-analysis\\\""
   ]
  },
  {
   "cell_type": "code",
   "execution_count": 56,
   "id": "5835157a",
   "metadata": {},
   "outputs": [],
   "source": [
    "data = pd.read_csv('PhonesDF_years_corrected_v2.csv')\n",
    "data = sm.add_constant(data)"
   ]
  },
  {
   "cell_type": "markdown",
   "id": "ee401d66",
   "metadata": {},
   "source": [
    "### 1. Объясняющая переменная - RATING <a name=\"subparagraph0\"></a>"
   ]
  },
  {
   "cell_type": "code",
   "execution_count": 33,
   "id": "5833db5a",
   "metadata": {},
   "outputs": [],
   "source": [
    "data1 = data.copy()\n",
    "data1 = data1.drop(columns = ['brand_Apple',\n",
    "       'brand_BlackBerry', 'brand_Cubot', 'brand_Gionee', 'brand_Google',\n",
    "       'brand_HTC', 'brand_Honor', 'brand_Huawei', 'brand_Infinix', 'brand_LG',\n",
    "       'brand_Lava', 'brand_Lenovo', 'brand_Motorola', 'brand_Nokia',\n",
    "       'brand_OnePlus', 'brand_Oppo', 'brand_Realme', 'brand_Samsung',\n",
    "       'brand_Sony', 'brand_Tecno', 'brand_Vivo', 'year_of_release'])"
   ]
  },
  {
   "cell_type": "code",
   "execution_count": 34,
   "id": "7158ba9d",
   "metadata": {},
   "outputs": [
    {
     "data": {
      "text/html": [
       "<div>\n",
       "<style scoped>\n",
       "    .dataframe tbody tr th:only-of-type {\n",
       "        vertical-align: middle;\n",
       "    }\n",
       "\n",
       "    .dataframe tbody tr th {\n",
       "        vertical-align: top;\n",
       "    }\n",
       "\n",
       "    .dataframe thead th {\n",
       "        text-align: right;\n",
       "    }\n",
       "</style>\n",
       "<table border=\"1\" class=\"dataframe\">\n",
       "  <thead>\n",
       "    <tr style=\"text-align: right;\">\n",
       "      <th></th>\n",
       "      <th>const</th>\n",
       "      <th>rating</th>\n",
       "      <th>disp_diag</th>\n",
       "      <th>camera</th>\n",
       "      <th>storage</th>\n",
       "      <th>ram</th>\n",
       "      <th>battery_capacity</th>\n",
       "      <th>log_price</th>\n",
       "      <th>density</th>\n",
       "      <th>Other_oper_syst</th>\n",
       "      <th>battery_type_LiPo</th>\n",
       "    </tr>\n",
       "  </thead>\n",
       "  <tbody>\n",
       "    <tr>\n",
       "      <th>0</th>\n",
       "      <td>1.0</td>\n",
       "      <td>4.0</td>\n",
       "      <td>6.00</td>\n",
       "      <td>8.0</td>\n",
       "      <td>64.0</td>\n",
       "      <td>4.0</td>\n",
       "      <td>4000.0</td>\n",
       "      <td>9.672816</td>\n",
       "      <td>28800.000000</td>\n",
       "      <td>0</td>\n",
       "      <td>1</td>\n",
       "    </tr>\n",
       "    <tr>\n",
       "      <th>1</th>\n",
       "      <td>1.0</td>\n",
       "      <td>4.5</td>\n",
       "      <td>6.01</td>\n",
       "      <td>8.0</td>\n",
       "      <td>64.0</td>\n",
       "      <td>6.0</td>\n",
       "      <td>4000.0</td>\n",
       "      <td>9.672816</td>\n",
       "      <td>64584.538802</td>\n",
       "      <td>0</td>\n",
       "      <td>1</td>\n",
       "    </tr>\n",
       "    <tr>\n",
       "      <th>2</th>\n",
       "      <td>1.0</td>\n",
       "      <td>4.3</td>\n",
       "      <td>6.40</td>\n",
       "      <td>20.0</td>\n",
       "      <td>128.0</td>\n",
       "      <td>6.0</td>\n",
       "      <td>6000.0</td>\n",
       "      <td>9.979986</td>\n",
       "      <td>61699.218750</td>\n",
       "      <td>0</td>\n",
       "      <td>1</td>\n",
       "    </tr>\n",
       "    <tr>\n",
       "      <th>3</th>\n",
       "      <td>1.0</td>\n",
       "      <td>3.8</td>\n",
       "      <td>6.40</td>\n",
       "      <td>20.0</td>\n",
       "      <td>64.0</td>\n",
       "      <td>4.0</td>\n",
       "      <td>6000.0</td>\n",
       "      <td>10.021226</td>\n",
       "      <td>61699.218750</td>\n",
       "      <td>0</td>\n",
       "      <td>1</td>\n",
       "    </tr>\n",
       "    <tr>\n",
       "      <th>4</th>\n",
       "      <td>1.0</td>\n",
       "      <td>3.8</td>\n",
       "      <td>6.40</td>\n",
       "      <td>20.0</td>\n",
       "      <td>128.0</td>\n",
       "      <td>6.0</td>\n",
       "      <td>5000.0</td>\n",
       "      <td>10.126591</td>\n",
       "      <td>63281.250000</td>\n",
       "      <td>0</td>\n",
       "      <td>1</td>\n",
       "    </tr>\n",
       "    <tr>\n",
       "      <th>...</th>\n",
       "      <td>...</td>\n",
       "      <td>...</td>\n",
       "      <td>...</td>\n",
       "      <td>...</td>\n",
       "      <td>...</td>\n",
       "      <td>...</td>\n",
       "      <td>...</td>\n",
       "      <td>...</td>\n",
       "      <td>...</td>\n",
       "      <td>...</td>\n",
       "      <td>...</td>\n",
       "    </tr>\n",
       "    <tr>\n",
       "      <th>554</th>\n",
       "      <td>1.0</td>\n",
       "      <td>4.5</td>\n",
       "      <td>5.20</td>\n",
       "      <td>8.0</td>\n",
       "      <td>32.0</td>\n",
       "      <td>3.0</td>\n",
       "      <td>2990.0</td>\n",
       "      <td>9.268609</td>\n",
       "      <td>38343.195266</td>\n",
       "      <td>0</td>\n",
       "      <td>0</td>\n",
       "    </tr>\n",
       "    <tr>\n",
       "      <th>555</th>\n",
       "      <td>1.0</td>\n",
       "      <td>4.1</td>\n",
       "      <td>6.30</td>\n",
       "      <td>20.0</td>\n",
       "      <td>128.0</td>\n",
       "      <td>6.0</td>\n",
       "      <td>3500.0</td>\n",
       "      <td>10.308919</td>\n",
       "      <td>62040.816327</td>\n",
       "      <td>0</td>\n",
       "      <td>1</td>\n",
       "    </tr>\n",
       "    <tr>\n",
       "      <th>556</th>\n",
       "      <td>1.0</td>\n",
       "      <td>3.7</td>\n",
       "      <td>6.30</td>\n",
       "      <td>20.0</td>\n",
       "      <td>64.0</td>\n",
       "      <td>4.0</td>\n",
       "      <td>3500.0</td>\n",
       "      <td>10.165852</td>\n",
       "      <td>62040.816327</td>\n",
       "      <td>0</td>\n",
       "      <td>1</td>\n",
       "    </tr>\n",
       "    <tr>\n",
       "      <th>557</th>\n",
       "      <td>1.0</td>\n",
       "      <td>5.0</td>\n",
       "      <td>6.30</td>\n",
       "      <td>8.0</td>\n",
       "      <td>64.0</td>\n",
       "      <td>4.0</td>\n",
       "      <td>3500.0</td>\n",
       "      <td>9.928180</td>\n",
       "      <td>62040.816327</td>\n",
       "      <td>0</td>\n",
       "      <td>1</td>\n",
       "    </tr>\n",
       "    <tr>\n",
       "      <th>558</th>\n",
       "      <td>1.0</td>\n",
       "      <td>3.9</td>\n",
       "      <td>5.71</td>\n",
       "      <td>5.0</td>\n",
       "      <td>16.0</td>\n",
       "      <td>2.0</td>\n",
       "      <td>3000.0</td>\n",
       "      <td>9.159047</td>\n",
       "      <td>33566.330615</td>\n",
       "      <td>0</td>\n",
       "      <td>0</td>\n",
       "    </tr>\n",
       "  </tbody>\n",
       "</table>\n",
       "<p>559 rows × 11 columns</p>\n",
       "</div>"
      ],
      "text/plain": [
       "     const  rating  disp_diag  camera  storage  ram  battery_capacity  \\\n",
       "0      1.0     4.0       6.00     8.0     64.0  4.0            4000.0   \n",
       "1      1.0     4.5       6.01     8.0     64.0  6.0            4000.0   \n",
       "2      1.0     4.3       6.40    20.0    128.0  6.0            6000.0   \n",
       "3      1.0     3.8       6.40    20.0     64.0  4.0            6000.0   \n",
       "4      1.0     3.8       6.40    20.0    128.0  6.0            5000.0   \n",
       "..     ...     ...        ...     ...      ...  ...               ...   \n",
       "554    1.0     4.5       5.20     8.0     32.0  3.0            2990.0   \n",
       "555    1.0     4.1       6.30    20.0    128.0  6.0            3500.0   \n",
       "556    1.0     3.7       6.30    20.0     64.0  4.0            3500.0   \n",
       "557    1.0     5.0       6.30     8.0     64.0  4.0            3500.0   \n",
       "558    1.0     3.9       5.71     5.0     16.0  2.0            3000.0   \n",
       "\n",
       "     log_price       density  Other_oper_syst  battery_type_LiPo  \n",
       "0     9.672816  28800.000000                0                  1  \n",
       "1     9.672816  64584.538802                0                  1  \n",
       "2     9.979986  61699.218750                0                  1  \n",
       "3    10.021226  61699.218750                0                  1  \n",
       "4    10.126591  63281.250000                0                  1  \n",
       "..         ...           ...              ...                ...  \n",
       "554   9.268609  38343.195266                0                  0  \n",
       "555  10.308919  62040.816327                0                  1  \n",
       "556  10.165852  62040.816327                0                  1  \n",
       "557   9.928180  62040.816327                0                  1  \n",
       "558   9.159047  33566.330615                0                  0  \n",
       "\n",
       "[559 rows x 11 columns]"
      ]
     },
     "execution_count": 34,
     "metadata": {},
     "output_type": "execute_result"
    }
   ],
   "source": [
    "data1"
   ]
  },
  {
   "cell_type": "markdown",
   "id": "ffc2f0b4",
   "metadata": {},
   "source": [
    "#### 1.1 Использование робастных оценок в форме Уйта"
   ]
  },
  {
   "cell_type": "code",
   "execution_count": 35,
   "id": "1eb3844d",
   "metadata": {},
   "outputs": [
    {
     "data": {
      "text/html": [
       "<table class=\"simpletable\">\n",
       "<caption>OLS Regression Results</caption>\n",
       "<tr>\n",
       "  <th>Dep. Variable:</th>        <td>log_price</td>    <th>  R-squared:         </th> <td>   0.434</td>\n",
       "</tr>\n",
       "<tr>\n",
       "  <th>Model:</th>                   <td>OLS</td>       <th>  Adj. R-squared:    </th> <td>   0.424</td>\n",
       "</tr>\n",
       "<tr>\n",
       "  <th>Method:</th>             <td>Least Squares</td>  <th>  F-statistic:       </th> <td>   41.40</td>\n",
       "</tr>\n",
       "<tr>\n",
       "  <th>Date:</th>             <td>Tue, 09 May 2023</td> <th>  Prob (F-statistic):</th> <td>2.27e-56</td>\n",
       "</tr>\n",
       "<tr>\n",
       "  <th>Time:</th>                 <td>18:58:16</td>     <th>  Log-Likelihood:    </th> <td> -390.72</td>\n",
       "</tr>\n",
       "<tr>\n",
       "  <th>No. Observations:</th>      <td>   559</td>      <th>  AIC:               </th> <td>   801.4</td>\n",
       "</tr>\n",
       "<tr>\n",
       "  <th>Df Residuals:</th>          <td>   549</td>      <th>  BIC:               </th> <td>   844.7</td>\n",
       "</tr>\n",
       "<tr>\n",
       "  <th>Df Model:</th>              <td>     9</td>      <th>                     </th>     <td> </td>   \n",
       "</tr>\n",
       "<tr>\n",
       "  <th>Covariance Type:</th>         <td>HC1</td>       <th>                     </th>     <td> </td>   \n",
       "</tr>\n",
       "</table>\n",
       "<table class=\"simpletable\">\n",
       "<tr>\n",
       "          <td></td>             <th>coef</th>     <th>std err</th>      <th>t</th>      <th>P>|t|</th>  <th>[0.025</th>    <th>0.975]</th>  \n",
       "</tr>\n",
       "<tr>\n",
       "  <th>const</th>             <td>    9.4248</td> <td>    0.356</td> <td>   26.485</td> <td> 0.000</td> <td>    8.726</td> <td>   10.124</td>\n",
       "</tr>\n",
       "<tr>\n",
       "  <th>rating</th>            <td>    0.0740</td> <td>    0.030</td> <td>    2.469</td> <td> 0.014</td> <td>    0.015</td> <td>    0.133</td>\n",
       "</tr>\n",
       "<tr>\n",
       "  <th>disp_diag</th>         <td>   -0.0112</td> <td>    0.075</td> <td>   -0.150</td> <td> 0.881</td> <td>   -0.158</td> <td>    0.136</td>\n",
       "</tr>\n",
       "<tr>\n",
       "  <th>camera</th>            <td>    0.0048</td> <td>    0.003</td> <td>    1.675</td> <td> 0.094</td> <td>   -0.001</td> <td>    0.010</td>\n",
       "</tr>\n",
       "<tr>\n",
       "  <th>storage</th>           <td>    0.0035</td> <td>    0.000</td> <td>    7.229</td> <td> 0.000</td> <td>    0.003</td> <td>    0.004</td>\n",
       "</tr>\n",
       "<tr>\n",
       "  <th>ram</th>               <td>    0.0453</td> <td>    0.013</td> <td>    3.472</td> <td> 0.001</td> <td>    0.020</td> <td>    0.071</td>\n",
       "</tr>\n",
       "<tr>\n",
       "  <th>battery_capacity</th>  <td>   -0.0001</td> <td> 3.89e-05</td> <td>   -2.637</td> <td> 0.009</td> <td>   -0.000</td> <td>-2.61e-05</td>\n",
       "</tr>\n",
       "<tr>\n",
       "  <th>density</th>           <td> 3.449e-06</td> <td> 7.85e-07</td> <td>    4.395</td> <td> 0.000</td> <td> 1.91e-06</td> <td> 4.99e-06</td>\n",
       "</tr>\n",
       "<tr>\n",
       "  <th>Other_oper_syst</th>   <td>    0.0319</td> <td>    0.369</td> <td>    0.087</td> <td> 0.931</td> <td>   -0.693</td> <td>    0.757</td>\n",
       "</tr>\n",
       "<tr>\n",
       "  <th>battery_type_LiPo</th> <td>    0.0389</td> <td>    0.059</td> <td>    0.656</td> <td> 0.512</td> <td>   -0.078</td> <td>    0.155</td>\n",
       "</tr>\n",
       "</table>\n",
       "<table class=\"simpletable\">\n",
       "<tr>\n",
       "  <th>Omnibus:</th>       <td>10.657</td> <th>  Durbin-Watson:     </th> <td>   1.272</td>\n",
       "</tr>\n",
       "<tr>\n",
       "  <th>Prob(Omnibus):</th> <td> 0.005</td> <th>  Jarque-Bera (JB):  </th> <td>  10.930</td>\n",
       "</tr>\n",
       "<tr>\n",
       "  <th>Skew:</th>          <td> 0.298</td> <th>  Prob(JB):          </th> <td> 0.00423</td>\n",
       "</tr>\n",
       "<tr>\n",
       "  <th>Kurtosis:</th>      <td> 3.338</td> <th>  Cond. No.          </th> <td>1.15e+06</td>\n",
       "</tr>\n",
       "</table><br/><br/>Notes:<br/>[1] Standard Errors are heteroscedasticity robust (HC1)<br/>[2] The condition number is large, 1.15e+06. This might indicate that there are<br/>strong multicollinearity or other numerical problems."
      ],
      "text/plain": [
       "<class 'statsmodels.iolib.summary.Summary'>\n",
       "\"\"\"\n",
       "                            OLS Regression Results                            \n",
       "==============================================================================\n",
       "Dep. Variable:              log_price   R-squared:                       0.434\n",
       "Model:                            OLS   Adj. R-squared:                  0.424\n",
       "Method:                 Least Squares   F-statistic:                     41.40\n",
       "Date:                Tue, 09 May 2023   Prob (F-statistic):           2.27e-56\n",
       "Time:                        18:58:16   Log-Likelihood:                -390.72\n",
       "No. Observations:                 559   AIC:                             801.4\n",
       "Df Residuals:                     549   BIC:                             844.7\n",
       "Df Model:                           9                                         \n",
       "Covariance Type:                  HC1                                         \n",
       "=====================================================================================\n",
       "                        coef    std err          t      P>|t|      [0.025      0.975]\n",
       "-------------------------------------------------------------------------------------\n",
       "const                 9.4248      0.356     26.485      0.000       8.726      10.124\n",
       "rating                0.0740      0.030      2.469      0.014       0.015       0.133\n",
       "disp_diag            -0.0112      0.075     -0.150      0.881      -0.158       0.136\n",
       "camera                0.0048      0.003      1.675      0.094      -0.001       0.010\n",
       "storage               0.0035      0.000      7.229      0.000       0.003       0.004\n",
       "ram                   0.0453      0.013      3.472      0.001       0.020       0.071\n",
       "battery_capacity     -0.0001   3.89e-05     -2.637      0.009      -0.000   -2.61e-05\n",
       "density            3.449e-06   7.85e-07      4.395      0.000    1.91e-06    4.99e-06\n",
       "Other_oper_syst       0.0319      0.369      0.087      0.931      -0.693       0.757\n",
       "battery_type_LiPo     0.0389      0.059      0.656      0.512      -0.078       0.155\n",
       "==============================================================================\n",
       "Omnibus:                       10.657   Durbin-Watson:                   1.272\n",
       "Prob(Omnibus):                  0.005   Jarque-Bera (JB):               10.930\n",
       "Skew:                           0.298   Prob(JB):                      0.00423\n",
       "Kurtosis:                       3.338   Cond. No.                     1.15e+06\n",
       "==============================================================================\n",
       "\n",
       "Notes:\n",
       "[1] Standard Errors are heteroscedasticity robust (HC1)\n",
       "[2] The condition number is large, 1.15e+06. This might indicate that there are\n",
       "strong multicollinearity or other numerical problems.\n",
       "\"\"\""
      ]
     },
     "execution_count": 35,
     "metadata": {},
     "output_type": "execute_result"
    }
   ],
   "source": [
    "ols1 = sm.OLS(data1['log_price'], data1.drop(columns = ['log_price'])).fit()\n",
    "ols1_robust = ols1.get_robustcov_results()\n",
    "ols1_robust.summary()"
   ]
  },
  {
   "cell_type": "markdown",
   "id": "d5b049e7",
   "metadata": {},
   "source": [
    "#### 1.2 Спецификация модели (Тест Рамсея)"
   ]
  },
  {
   "cell_type": "code",
   "execution_count": 36,
   "id": "ab3ffef2",
   "metadata": {},
   "outputs": [
    {
     "name": "stdout",
     "output_type": "stream",
     "text": [
      "F=1.5026841956097212\n",
      "p=0.22078534548822779\n"
     ]
    }
   ],
   "source": [
    "rams = reset_ramsey(ols1_robust, degree = 2)\n",
    "print(f\"{rams.summary().split(', ')[0][-20:]}\")\n",
    "print(f\"{rams.summary().split(', ')[1]}\")"
   ]
  },
  {
   "cell_type": "markdown",
   "id": "5da6a4d5",
   "metadata": {},
   "source": [
    "* Нулевая гипотеза не отвергается на любом разумном уровне значимости для второй степени, следовательно гипотеза о том, что модель правильно специфицирована не отвергается. Другими словами, нельзя отвергать гипотезу, что выбранная модель специфицированна правильно."
   ]
  },
  {
   "cell_type": "markdown",
   "id": "e1187577",
   "metadata": {},
   "source": [
    "#### 1.3 Проверка нормальности остатков (Тест Харке-Бера) "
   ]
  },
  {
   "cell_type": "code",
   "execution_count": 37,
   "id": "4ce8b7f9",
   "metadata": {},
   "outputs": [
    {
     "name": "stdout",
     "output_type": "stream",
     "text": [
      "Тест Харке-Бера p_value = 0.004231504494950689\n"
     ]
    }
   ],
   "source": [
    "_, p_value = stats.jarque_bera(ols1_robust.resid)\n",
    "print(f\"Тест Харке-Бера p_value = {p_value}\") #"
   ]
  },
  {
   "cell_type": "markdown",
   "id": "28783347",
   "metadata": {},
   "source": [
    "Нулевая гипотеза о том, что остатки имеют нормальное распределение, отвергается на любом разумном уровне значимости. Следовательно, так как остатки являются оценкой ошибок, то отвергается гипотеза о том, что выполняется предпосылка КЛММР о стадартном нормальном распределении ошибок."
   ]
  },
  {
   "cell_type": "markdown",
   "id": "565ff446",
   "metadata": {},
   "source": [
    "### 2. Объясняющая переменная - BRAND_* <a name=\"subparagraph1\"></a>"
   ]
  },
  {
   "cell_type": "code",
   "execution_count": 11,
   "id": "99d5f738",
   "metadata": {},
   "outputs": [],
   "source": [
    "data2 = data.copy()\n",
    "data2 = data2.drop(columns = ['year_of_release', 'rating'])"
   ]
  },
  {
   "cell_type": "code",
   "execution_count": 12,
   "id": "5e1779f9",
   "metadata": {},
   "outputs": [
    {
     "data": {
      "text/plain": [
       "Index(['const', 'disp_diag', 'camera', 'storage', 'ram', 'battery_capacity',\n",
       "       'log_price', 'density', 'Other_oper_syst', 'battery_type_LiPo',\n",
       "       'brand_Apple', 'brand_BlackBerry', 'brand_Cubot', 'brand_Gionee',\n",
       "       'brand_Google', 'brand_HTC', 'brand_Honor', 'brand_Huawei',\n",
       "       'brand_Infinix', 'brand_LG', 'brand_Lava', 'brand_Lenovo',\n",
       "       'brand_Motorola', 'brand_Nokia', 'brand_OnePlus', 'brand_Oppo',\n",
       "       'brand_Realme', 'brand_Samsung', 'brand_Sony', 'brand_Tecno',\n",
       "       'brand_Vivo'],\n",
       "      dtype='object')"
      ]
     },
     "execution_count": 12,
     "metadata": {},
     "output_type": "execute_result"
    }
   ],
   "source": [
    "data2.columns"
   ]
  },
  {
   "cell_type": "markdown",
   "id": "4df8ea1e",
   "metadata": {},
   "source": [
    "#### 2.1 Использование робастных оценок в форме Уйта"
   ]
  },
  {
   "cell_type": "code",
   "execution_count": 13,
   "id": "8259d1f1",
   "metadata": {},
   "outputs": [
    {
     "data": {
      "text/html": [
       "<table class=\"simpletable\">\n",
       "<caption>OLS Regression Results</caption>\n",
       "<tr>\n",
       "  <th>Dep. Variable:</th>        <td>log_price</td>    <th>  R-squared:         </th> <td>   0.568</td> \n",
       "</tr>\n",
       "<tr>\n",
       "  <th>Model:</th>                   <td>OLS</td>       <th>  Adj. R-squared:    </th> <td>   0.544</td> \n",
       "</tr>\n",
       "<tr>\n",
       "  <th>Method:</th>             <td>Least Squares</td>  <th>  F-statistic:       </th> <td>   48.09</td> \n",
       "</tr>\n",
       "<tr>\n",
       "  <th>Date:</th>             <td>Tue, 09 May 2023</td> <th>  Prob (F-statistic):</th> <td>2.09e-128</td>\n",
       "</tr>\n",
       "<tr>\n",
       "  <th>Time:</th>                 <td>18:37:23</td>     <th>  Log-Likelihood:    </th> <td> -315.23</td> \n",
       "</tr>\n",
       "<tr>\n",
       "  <th>No. Observations:</th>      <td>   559</td>      <th>  AIC:               </th> <td>   690.5</td> \n",
       "</tr>\n",
       "<tr>\n",
       "  <th>Df Residuals:</th>          <td>   529</td>      <th>  BIC:               </th> <td>   820.3</td> \n",
       "</tr>\n",
       "<tr>\n",
       "  <th>Df Model:</th>              <td>    29</td>      <th>                     </th>     <td> </td>    \n",
       "</tr>\n",
       "<tr>\n",
       "  <th>Covariance Type:</th>         <td>HC1</td>       <th>                     </th>     <td> </td>    \n",
       "</tr>\n",
       "</table>\n",
       "<table class=\"simpletable\">\n",
       "<tr>\n",
       "          <td></td>             <th>coef</th>     <th>std err</th>      <th>t</th>      <th>P>|t|</th>  <th>[0.025</th>    <th>0.975]</th>  \n",
       "</tr>\n",
       "<tr>\n",
       "  <th>const</th>             <td>    9.0059</td> <td>    0.344</td> <td>   26.145</td> <td> 0.000</td> <td>    8.329</td> <td>    9.683</td>\n",
       "</tr>\n",
       "<tr>\n",
       "  <th>disp_diag</th>         <td>    0.0671</td> <td>    0.071</td> <td>    0.952</td> <td> 0.342</td> <td>   -0.071</td> <td>    0.206</td>\n",
       "</tr>\n",
       "<tr>\n",
       "  <th>camera</th>            <td>    0.0087</td> <td>    0.003</td> <td>    2.939</td> <td> 0.003</td> <td>    0.003</td> <td>    0.015</td>\n",
       "</tr>\n",
       "<tr>\n",
       "  <th>storage</th>           <td>    0.0022</td> <td>    0.000</td> <td>    4.617</td> <td> 0.000</td> <td>    0.001</td> <td>    0.003</td>\n",
       "</tr>\n",
       "<tr>\n",
       "  <th>ram</th>               <td>    0.0554</td> <td>    0.015</td> <td>    3.775</td> <td> 0.000</td> <td>    0.027</td> <td>    0.084</td>\n",
       "</tr>\n",
       "<tr>\n",
       "  <th>battery_capacity</th>  <td>-4.991e-05</td> <td> 3.94e-05</td> <td>   -1.266</td> <td> 0.206</td> <td>   -0.000</td> <td> 2.76e-05</td>\n",
       "</tr>\n",
       "<tr>\n",
       "  <th>density</th>           <td> 2.215e-06</td> <td> 8.06e-07</td> <td>    2.749</td> <td> 0.006</td> <td> 6.32e-07</td> <td>  3.8e-06</td>\n",
       "</tr>\n",
       "<tr>\n",
       "  <th>Other_oper_syst</th>   <td>    0.0728</td> <td>    0.488</td> <td>    0.149</td> <td> 0.881</td> <td>   -0.885</td> <td>    1.031</td>\n",
       "</tr>\n",
       "<tr>\n",
       "  <th>battery_type_LiPo</th> <td>    0.0492</td> <td>    0.054</td> <td>    0.918</td> <td> 0.359</td> <td>   -0.056</td> <td>    0.154</td>\n",
       "</tr>\n",
       "<tr>\n",
       "  <th>brand_Apple</th>       <td>    0.9494</td> <td>    0.128</td> <td>    7.417</td> <td> 0.000</td> <td>    0.698</td> <td>    1.201</td>\n",
       "</tr>\n",
       "<tr>\n",
       "  <th>brand_BlackBerry</th>  <td>    0.2167</td> <td>    0.227</td> <td>    0.954</td> <td> 0.341</td> <td>   -0.230</td> <td>    0.663</td>\n",
       "</tr>\n",
       "<tr>\n",
       "  <th>brand_Cubot</th>       <td>    0.2239</td> <td>    0.095</td> <td>    2.369</td> <td> 0.018</td> <td>    0.038</td> <td>    0.410</td>\n",
       "</tr>\n",
       "<tr>\n",
       "  <th>brand_Gionee</th>      <td>   -0.1751</td> <td>    0.094</td> <td>   -1.858</td> <td> 0.064</td> <td>   -0.360</td> <td>    0.010</td>\n",
       "</tr>\n",
       "<tr>\n",
       "  <th>brand_Google</th>      <td>    0.6038</td> <td>    0.259</td> <td>    2.327</td> <td> 0.020</td> <td>    0.094</td> <td>    1.113</td>\n",
       "</tr>\n",
       "<tr>\n",
       "  <th>brand_HTC</th>         <td>   -0.0323</td> <td>    0.106</td> <td>   -0.304</td> <td> 0.761</td> <td>   -0.241</td> <td>    0.177</td>\n",
       "</tr>\n",
       "<tr>\n",
       "  <th>brand_Honor</th>       <td>    0.7668</td> <td>    0.168</td> <td>    4.562</td> <td> 0.000</td> <td>    0.437</td> <td>    1.097</td>\n",
       "</tr>\n",
       "<tr>\n",
       "  <th>brand_Huawei</th>      <td>   -0.0596</td> <td>    0.081</td> <td>   -0.733</td> <td> 0.464</td> <td>   -0.219</td> <td>    0.100</td>\n",
       "</tr>\n",
       "<tr>\n",
       "  <th>brand_Infinix</th>     <td>   -0.1724</td> <td>    0.076</td> <td>   -2.276</td> <td> 0.023</td> <td>   -0.321</td> <td>   -0.024</td>\n",
       "</tr>\n",
       "<tr>\n",
       "  <th>brand_LG</th>          <td>    0.4196</td> <td>    0.152</td> <td>    2.768</td> <td> 0.006</td> <td>    0.122</td> <td>    0.717</td>\n",
       "</tr>\n",
       "<tr>\n",
       "  <th>brand_Lava</th>        <td>   -0.5922</td> <td>    0.101</td> <td>   -5.882</td> <td> 0.000</td> <td>   -0.790</td> <td>   -0.394</td>\n",
       "</tr>\n",
       "<tr>\n",
       "  <th>brand_Lenovo</th>      <td>   -0.0788</td> <td>    0.085</td> <td>   -0.926</td> <td> 0.355</td> <td>   -0.246</td> <td>    0.088</td>\n",
       "</tr>\n",
       "<tr>\n",
       "  <th>brand_Motorola</th>    <td>    0.5801</td> <td>    0.188</td> <td>    3.081</td> <td> 0.002</td> <td>    0.210</td> <td>    0.950</td>\n",
       "</tr>\n",
       "<tr>\n",
       "  <th>brand_Nokia</th>       <td>   -0.0880</td> <td>    0.086</td> <td>   -1.027</td> <td> 0.305</td> <td>   -0.256</td> <td>    0.080</td>\n",
       "</tr>\n",
       "<tr>\n",
       "  <th>brand_OnePlus</th>     <td>    0.6301</td> <td>    0.101</td> <td>    6.233</td> <td> 0.000</td> <td>    0.432</td> <td>    0.829</td>\n",
       "</tr>\n",
       "<tr>\n",
       "  <th>brand_Oppo</th>        <td>   -0.0636</td> <td>    0.093</td> <td>   -0.683</td> <td> 0.495</td> <td>   -0.247</td> <td>    0.119</td>\n",
       "</tr>\n",
       "<tr>\n",
       "  <th>brand_Realme</th>      <td>   -0.0012</td> <td>    0.104</td> <td>   -0.012</td> <td> 0.991</td> <td>   -0.206</td> <td>    0.203</td>\n",
       "</tr>\n",
       "<tr>\n",
       "  <th>brand_Samsung</th>     <td>    0.1647</td> <td>    0.072</td> <td>    2.301</td> <td> 0.022</td> <td>    0.024</td> <td>    0.305</td>\n",
       "</tr>\n",
       "<tr>\n",
       "  <th>brand_Sony</th>        <td>    0.3401</td> <td>    0.160</td> <td>    2.129</td> <td> 0.034</td> <td>    0.026</td> <td>    0.654</td>\n",
       "</tr>\n",
       "<tr>\n",
       "  <th>brand_Tecno</th>       <td>    0.0091</td> <td>    0.087</td> <td>    0.104</td> <td> 0.917</td> <td>   -0.163</td> <td>    0.181</td>\n",
       "</tr>\n",
       "<tr>\n",
       "  <th>brand_Vivo</th>        <td>    0.0970</td> <td>    0.067</td> <td>    1.453</td> <td> 0.147</td> <td>   -0.034</td> <td>    0.228</td>\n",
       "</tr>\n",
       "</table>\n",
       "<table class=\"simpletable\">\n",
       "<tr>\n",
       "  <th>Omnibus:</th>       <td> 6.794</td> <th>  Durbin-Watson:     </th> <td>   1.465</td>\n",
       "</tr>\n",
       "<tr>\n",
       "  <th>Prob(Omnibus):</th> <td> 0.033</td> <th>  Jarque-Bera (JB):  </th> <td>   6.748</td>\n",
       "</tr>\n",
       "<tr>\n",
       "  <th>Skew:</th>          <td> 0.268</td> <th>  Prob(JB):          </th> <td>  0.0343</td>\n",
       "</tr>\n",
       "<tr>\n",
       "  <th>Kurtosis:</th>      <td> 3.051</td> <th>  Cond. No.          </th> <td>1.26e+06</td>\n",
       "</tr>\n",
       "</table><br/><br/>Notes:<br/>[1] Standard Errors are heteroscedasticity robust (HC1)<br/>[2] The condition number is large, 1.26e+06. This might indicate that there are<br/>strong multicollinearity or other numerical problems."
      ],
      "text/plain": [
       "<class 'statsmodels.iolib.summary.Summary'>\n",
       "\"\"\"\n",
       "                            OLS Regression Results                            \n",
       "==============================================================================\n",
       "Dep. Variable:              log_price   R-squared:                       0.568\n",
       "Model:                            OLS   Adj. R-squared:                  0.544\n",
       "Method:                 Least Squares   F-statistic:                     48.09\n",
       "Date:                Tue, 09 May 2023   Prob (F-statistic):          2.09e-128\n",
       "Time:                        18:37:23   Log-Likelihood:                -315.23\n",
       "No. Observations:                 559   AIC:                             690.5\n",
       "Df Residuals:                     529   BIC:                             820.3\n",
       "Df Model:                          29                                         \n",
       "Covariance Type:                  HC1                                         \n",
       "=====================================================================================\n",
       "                        coef    std err          t      P>|t|      [0.025      0.975]\n",
       "-------------------------------------------------------------------------------------\n",
       "const                 9.0059      0.344     26.145      0.000       8.329       9.683\n",
       "disp_diag             0.0671      0.071      0.952      0.342      -0.071       0.206\n",
       "camera                0.0087      0.003      2.939      0.003       0.003       0.015\n",
       "storage               0.0022      0.000      4.617      0.000       0.001       0.003\n",
       "ram                   0.0554      0.015      3.775      0.000       0.027       0.084\n",
       "battery_capacity  -4.991e-05   3.94e-05     -1.266      0.206      -0.000    2.76e-05\n",
       "density            2.215e-06   8.06e-07      2.749      0.006    6.32e-07     3.8e-06\n",
       "Other_oper_syst       0.0728      0.488      0.149      0.881      -0.885       1.031\n",
       "battery_type_LiPo     0.0492      0.054      0.918      0.359      -0.056       0.154\n",
       "brand_Apple           0.9494      0.128      7.417      0.000       0.698       1.201\n",
       "brand_BlackBerry      0.2167      0.227      0.954      0.341      -0.230       0.663\n",
       "brand_Cubot           0.2239      0.095      2.369      0.018       0.038       0.410\n",
       "brand_Gionee         -0.1751      0.094     -1.858      0.064      -0.360       0.010\n",
       "brand_Google          0.6038      0.259      2.327      0.020       0.094       1.113\n",
       "brand_HTC            -0.0323      0.106     -0.304      0.761      -0.241       0.177\n",
       "brand_Honor           0.7668      0.168      4.562      0.000       0.437       1.097\n",
       "brand_Huawei         -0.0596      0.081     -0.733      0.464      -0.219       0.100\n",
       "brand_Infinix        -0.1724      0.076     -2.276      0.023      -0.321      -0.024\n",
       "brand_LG              0.4196      0.152      2.768      0.006       0.122       0.717\n",
       "brand_Lava           -0.5922      0.101     -5.882      0.000      -0.790      -0.394\n",
       "brand_Lenovo         -0.0788      0.085     -0.926      0.355      -0.246       0.088\n",
       "brand_Motorola        0.5801      0.188      3.081      0.002       0.210       0.950\n",
       "brand_Nokia          -0.0880      0.086     -1.027      0.305      -0.256       0.080\n",
       "brand_OnePlus         0.6301      0.101      6.233      0.000       0.432       0.829\n",
       "brand_Oppo           -0.0636      0.093     -0.683      0.495      -0.247       0.119\n",
       "brand_Realme         -0.0012      0.104     -0.012      0.991      -0.206       0.203\n",
       "brand_Samsung         0.1647      0.072      2.301      0.022       0.024       0.305\n",
       "brand_Sony            0.3401      0.160      2.129      0.034       0.026       0.654\n",
       "brand_Tecno           0.0091      0.087      0.104      0.917      -0.163       0.181\n",
       "brand_Vivo            0.0970      0.067      1.453      0.147      -0.034       0.228\n",
       "==============================================================================\n",
       "Omnibus:                        6.794   Durbin-Watson:                   1.465\n",
       "Prob(Omnibus):                  0.033   Jarque-Bera (JB):                6.748\n",
       "Skew:                           0.268   Prob(JB):                       0.0343\n",
       "Kurtosis:                       3.051   Cond. No.                     1.26e+06\n",
       "==============================================================================\n",
       "\n",
       "Notes:\n",
       "[1] Standard Errors are heteroscedasticity robust (HC1)\n",
       "[2] The condition number is large, 1.26e+06. This might indicate that there are\n",
       "strong multicollinearity or other numerical problems.\n",
       "\"\"\""
      ]
     },
     "execution_count": 13,
     "metadata": {},
     "output_type": "execute_result"
    }
   ],
   "source": [
    "ols2 = sm.OLS(data2['log_price'], data2.drop(columns = ['log_price'])).fit()\n",
    "ols2_robust = ols2.get_robustcov_results()\n",
    "ols2_robust.summary()"
   ]
  },
  {
   "cell_type": "markdown",
   "id": "5b07f6bc",
   "metadata": {},
   "source": [
    "#### 2.2 Спецификация модели (Тест Рамсея)"
   ]
  },
  {
   "cell_type": "code",
   "execution_count": 14,
   "id": "508732fd",
   "metadata": {},
   "outputs": [
    {
     "name": "stdout",
     "output_type": "stream",
     "text": [
      "F=0.5749474466965152\n",
      "p=0.44863791118234186\n"
     ]
    }
   ],
   "source": [
    "rams = reset_ramsey(ols2_robust, degree = 2)\n",
    "print(f\"{rams.summary().split(', ')[0][-20:]}\")\n",
    "print(f\"{rams.summary().split(', ')[1]}\")"
   ]
  },
  {
   "cell_type": "markdown",
   "id": "3331b3d5",
   "metadata": {},
   "source": [
    "* Нулевая гипотеза не отвергается на любом разумном уровне значимости для второй степени, следовательно гипотеза о том, что модель правильно специфицирована не отвергается. Другими словами, нельзя отвергать гипотезу, что выбранная модель специфицированна правильно."
   ]
  },
  {
   "cell_type": "markdown",
   "id": "d42fc38b",
   "metadata": {},
   "source": [
    "#### 2.3 Проверка нормальности остатков (Тест Харке-Бера) "
   ]
  },
  {
   "cell_type": "code",
   "execution_count": 15,
   "id": "b6111a83",
   "metadata": {},
   "outputs": [
    {
     "name": "stdout",
     "output_type": "stream",
     "text": [
      "Тест Харке-Бера p_value = 0.034258274912200126\n"
     ]
    }
   ],
   "source": [
    "_, p_value = stats.jarque_bera(ols2_robust.resid)\n",
    "print(f\"Тест Харке-Бера p_value = {p_value}\") #"
   ]
  },
  {
   "cell_type": "markdown",
   "id": "02d8f8b8",
   "metadata": {},
   "source": [
    "На 1% уровне значимости нулевая гипотеза, что остатки имеют нормальное распределение, не отвергается. Следовательно, так как остатки являются оценкой ошибок, то нельзя отвергаеть гипотезу, что выполняется предпосылка КЛММР о стадартном нормальном распределении ошибок."
   ]
  },
  {
   "cell_type": "markdown",
   "id": "8b7f2d7f",
   "metadata": {},
   "source": [
    "### 3. Объясняющая переменная - YEAR_OF_RELEASE <a name=\"subparagraph2\"></a>"
   ]
  },
  {
   "cell_type": "code",
   "execution_count": 25,
   "id": "7e1e4b52",
   "metadata": {},
   "outputs": [],
   "source": [
    "data3 = data.copy()\n",
    "data3 = data3.drop(columns = ['brand_Apple',\n",
    "       'brand_BlackBerry', 'brand_Cubot', 'brand_Gionee', 'brand_Google',\n",
    "       'brand_HTC', 'brand_Honor', 'brand_Huawei', 'brand_Infinix', 'brand_LG',\n",
    "       'brand_Lava', 'brand_Lenovo', 'brand_Motorola', 'brand_Nokia',\n",
    "       'brand_OnePlus', 'brand_Oppo', 'brand_Realme', 'brand_Samsung',\n",
    "       'brand_Sony', 'brand_Tecno', 'brand_Vivo', 'rating'])"
   ]
  },
  {
   "cell_type": "markdown",
   "id": "66ce376f",
   "metadata": {},
   "source": [
    "#### 3.1 Использование робастных оценок в форме Уйта"
   ]
  },
  {
   "cell_type": "code",
   "execution_count": 26,
   "id": "9a5e76c3",
   "metadata": {},
   "outputs": [
    {
     "data": {
      "text/html": [
       "<table class=\"simpletable\">\n",
       "<caption>OLS Regression Results</caption>\n",
       "<tr>\n",
       "  <th>Dep. Variable:</th>        <td>log_price</td>    <th>  R-squared:         </th> <td>   0.430</td>\n",
       "</tr>\n",
       "<tr>\n",
       "  <th>Model:</th>                   <td>OLS</td>       <th>  Adj. R-squared:    </th> <td>   0.420</td>\n",
       "</tr>\n",
       "<tr>\n",
       "  <th>Method:</th>             <td>Least Squares</td>  <th>  F-statistic:       </th> <td>   38.25</td>\n",
       "</tr>\n",
       "<tr>\n",
       "  <th>Date:</th>             <td>Tue, 09 May 2023</td> <th>  Prob (F-statistic):</th> <td>1.02e-52</td>\n",
       "</tr>\n",
       "<tr>\n",
       "  <th>Time:</th>                 <td>18:57:10</td>     <th>  Log-Likelihood:    </th> <td> -392.75</td>\n",
       "</tr>\n",
       "<tr>\n",
       "  <th>No. Observations:</th>      <td>   559</td>      <th>  AIC:               </th> <td>   805.5</td>\n",
       "</tr>\n",
       "<tr>\n",
       "  <th>Df Residuals:</th>          <td>   549</td>      <th>  BIC:               </th> <td>   848.8</td>\n",
       "</tr>\n",
       "<tr>\n",
       "  <th>Df Model:</th>              <td>     9</td>      <th>                     </th>     <td> </td>   \n",
       "</tr>\n",
       "<tr>\n",
       "  <th>Covariance Type:</th>         <td>HC1</td>       <th>                     </th>     <td> </td>   \n",
       "</tr>\n",
       "</table>\n",
       "<table class=\"simpletable\">\n",
       "<tr>\n",
       "          <td></td>             <th>coef</th>     <th>std err</th>      <th>t</th>      <th>P>|t|</th>  <th>[0.025</th>    <th>0.975]</th>  \n",
       "</tr>\n",
       "<tr>\n",
       "  <th>const</th>             <td>  -54.5985</td> <td>   43.650</td> <td>   -1.251</td> <td> 0.212</td> <td> -140.339</td> <td>   31.142</td>\n",
       "</tr>\n",
       "<tr>\n",
       "  <th>disp_diag</th>         <td>   -0.0319</td> <td>    0.077</td> <td>   -0.414</td> <td> 0.679</td> <td>   -0.183</td> <td>    0.119</td>\n",
       "</tr>\n",
       "<tr>\n",
       "  <th>camera</th>            <td>    0.0050</td> <td>    0.003</td> <td>    1.749</td> <td> 0.081</td> <td>   -0.001</td> <td>    0.011</td>\n",
       "</tr>\n",
       "<tr>\n",
       "  <th>storage</th>           <td>    0.0034</td> <td>    0.000</td> <td>    7.093</td> <td> 0.000</td> <td>    0.002</td> <td>    0.004</td>\n",
       "</tr>\n",
       "<tr>\n",
       "  <th>ram</th>               <td>    0.0454</td> <td>    0.013</td> <td>    3.436</td> <td> 0.001</td> <td>    0.019</td> <td>    0.071</td>\n",
       "</tr>\n",
       "<tr>\n",
       "  <th>battery_capacity</th>  <td>   -0.0001</td> <td> 4.06e-05</td> <td>   -2.720</td> <td> 0.007</td> <td>   -0.000</td> <td>-3.07e-05</td>\n",
       "</tr>\n",
       "<tr>\n",
       "  <th>year_of_release</th>   <td>    0.0319</td> <td>    0.022</td> <td>    1.471</td> <td> 0.142</td> <td>   -0.011</td> <td>    0.075</td>\n",
       "</tr>\n",
       "<tr>\n",
       "  <th>density</th>           <td> 4.136e-06</td> <td> 8.45e-07</td> <td>    4.897</td> <td> 0.000</td> <td> 2.48e-06</td> <td>  5.8e-06</td>\n",
       "</tr>\n",
       "<tr>\n",
       "  <th>Other_oper_syst</th>   <td>    0.0615</td> <td>    0.438</td> <td>    0.141</td> <td> 0.888</td> <td>   -0.798</td> <td>    0.921</td>\n",
       "</tr>\n",
       "<tr>\n",
       "  <th>battery_type_LiPo</th> <td>    0.0371</td> <td>    0.059</td> <td>    0.626</td> <td> 0.532</td> <td>   -0.079</td> <td>    0.153</td>\n",
       "</tr>\n",
       "</table>\n",
       "<table class=\"simpletable\">\n",
       "<tr>\n",
       "  <th>Omnibus:</th>       <td> 9.855</td> <th>  Durbin-Watson:     </th> <td>   1.280</td>\n",
       "</tr>\n",
       "<tr>\n",
       "  <th>Prob(Omnibus):</th> <td> 0.007</td> <th>  Jarque-Bera (JB):  </th> <td>   9.900</td>\n",
       "</tr>\n",
       "<tr>\n",
       "  <th>Skew:</th>          <td> 0.298</td> <th>  Prob(JB):          </th> <td> 0.00709</td>\n",
       "</tr>\n",
       "<tr>\n",
       "  <th>Kurtosis:</th>      <td> 3.263</td> <th>  Cond. No.          </th> <td>1.29e+08</td>\n",
       "</tr>\n",
       "</table><br/><br/>Notes:<br/>[1] Standard Errors are heteroscedasticity robust (HC1)<br/>[2] The condition number is large, 1.29e+08. This might indicate that there are<br/>strong multicollinearity or other numerical problems."
      ],
      "text/plain": [
       "<class 'statsmodels.iolib.summary.Summary'>\n",
       "\"\"\"\n",
       "                            OLS Regression Results                            \n",
       "==============================================================================\n",
       "Dep. Variable:              log_price   R-squared:                       0.430\n",
       "Model:                            OLS   Adj. R-squared:                  0.420\n",
       "Method:                 Least Squares   F-statistic:                     38.25\n",
       "Date:                Tue, 09 May 2023   Prob (F-statistic):           1.02e-52\n",
       "Time:                        18:57:10   Log-Likelihood:                -392.75\n",
       "No. Observations:                 559   AIC:                             805.5\n",
       "Df Residuals:                     549   BIC:                             848.8\n",
       "Df Model:                           9                                         \n",
       "Covariance Type:                  HC1                                         \n",
       "=====================================================================================\n",
       "                        coef    std err          t      P>|t|      [0.025      0.975]\n",
       "-------------------------------------------------------------------------------------\n",
       "const               -54.5985     43.650     -1.251      0.212    -140.339      31.142\n",
       "disp_diag            -0.0319      0.077     -0.414      0.679      -0.183       0.119\n",
       "camera                0.0050      0.003      1.749      0.081      -0.001       0.011\n",
       "storage               0.0034      0.000      7.093      0.000       0.002       0.004\n",
       "ram                   0.0454      0.013      3.436      0.001       0.019       0.071\n",
       "battery_capacity     -0.0001   4.06e-05     -2.720      0.007      -0.000   -3.07e-05\n",
       "year_of_release       0.0319      0.022      1.471      0.142      -0.011       0.075\n",
       "density            4.136e-06   8.45e-07      4.897      0.000    2.48e-06     5.8e-06\n",
       "Other_oper_syst       0.0615      0.438      0.141      0.888      -0.798       0.921\n",
       "battery_type_LiPo     0.0371      0.059      0.626      0.532      -0.079       0.153\n",
       "==============================================================================\n",
       "Omnibus:                        9.855   Durbin-Watson:                   1.280\n",
       "Prob(Omnibus):                  0.007   Jarque-Bera (JB):                9.900\n",
       "Skew:                           0.298   Prob(JB):                      0.00709\n",
       "Kurtosis:                       3.263   Cond. No.                     1.29e+08\n",
       "==============================================================================\n",
       "\n",
       "Notes:\n",
       "[1] Standard Errors are heteroscedasticity robust (HC1)\n",
       "[2] The condition number is large, 1.29e+08. This might indicate that there are\n",
       "strong multicollinearity or other numerical problems.\n",
       "\"\"\""
      ]
     },
     "execution_count": 26,
     "metadata": {},
     "output_type": "execute_result"
    }
   ],
   "source": [
    "ols3 = sm.OLS(data3['log_price'], data3.drop(columns = ['log_price'])).fit()\n",
    "ols3_robust = ols3.get_robustcov_results()\n",
    "ols3_robust.summary()"
   ]
  },
  {
   "cell_type": "markdown",
   "id": "24c4ae55",
   "metadata": {},
   "source": [
    "#### 3.2 Спецификация модели (Тест Рамсея)"
   ]
  },
  {
   "cell_type": "code",
   "execution_count": 27,
   "id": "1266a53f",
   "metadata": {},
   "outputs": [
    {
     "name": "stdout",
     "output_type": "stream",
     "text": [
      "=1.5420377427907823\n",
      "p=0.21484595711856472\n"
     ]
    }
   ],
   "source": [
    "rams = reset_ramsey(ols3_robust, degree = 2)\n",
    "print(f\"{rams.summary().split(', ')[0][-19:]}\")\n",
    "print(f\"{rams.summary().split(', ')[1]}\")"
   ]
  },
  {
   "cell_type": "markdown",
   "id": "6de7019c",
   "metadata": {},
   "source": [
    "* Нулевая гипотеза не отвергается на любом разумном уровне значимости для второй степени, следовательно гипотеза о том, что модель правильно специфицирована не отвергается. Другими словами, нельзя отвергать гипотезу, что выбранная модель специфицированна правильно."
   ]
  },
  {
   "cell_type": "markdown",
   "id": "bd60004b",
   "metadata": {},
   "source": [
    "#### 3.3 Проверка нормальности остатков (Тест Харке-Бера) "
   ]
  },
  {
   "cell_type": "code",
   "execution_count": 28,
   "id": "9a47eee9",
   "metadata": {},
   "outputs": [
    {
     "name": "stdout",
     "output_type": "stream",
     "text": [
      "Тест Харке-Бера p_value = 0.007085035875403212\n"
     ]
    }
   ],
   "source": [
    "_, p_value = stats.jarque_bera(ols3_robust.resid)\n",
    "print(f\"Тест Харке-Бера p_value = {p_value}\") #"
   ]
  },
  {
   "cell_type": "markdown",
   "id": "090c9c35",
   "metadata": {},
   "source": [
    "Нулевая гипотеза о том, что остатки имеют нормальное распределение, отвергается на любом разумном уровне значимости. Следовательно, так как остатки являются оценкой ошибок, то отвергается гипотеза о том, что выполняется предпосылка КЛММР о стадартном нормальном распределении ошибок."
   ]
  },
  {
   "cell_type": "markdown",
   "id": "a460dcd7",
   "metadata": {},
   "source": [
    "### 4. Все объясняющие переменные вместе <a name=\"subparagraph2\"></a>"
   ]
  },
  {
   "cell_type": "markdown",
   "id": "527f0d2b",
   "metadata": {},
   "source": [
    "#### 4.1 Использование робастных оценок в форме Уйта"
   ]
  },
  {
   "cell_type": "code",
   "execution_count": 57,
   "id": "5ba0f4a6",
   "metadata": {},
   "outputs": [
    {
     "data": {
      "text/html": [
       "<table class=\"simpletable\">\n",
       "<caption>OLS Regression Results</caption>\n",
       "<tr>\n",
       "  <th>Dep. Variable:</th>        <td>log_price</td>    <th>  R-squared:         </th> <td>   0.576</td> \n",
       "</tr>\n",
       "<tr>\n",
       "  <th>Model:</th>                   <td>OLS</td>       <th>  Adj. R-squared:    </th> <td>   0.551</td> \n",
       "</tr>\n",
       "<tr>\n",
       "  <th>Method:</th>             <td>Least Squares</td>  <th>  F-statistic:       </th> <td>   99.65</td> \n",
       "</tr>\n",
       "<tr>\n",
       "  <th>Date:</th>             <td>Tue, 09 May 2023</td> <th>  Prob (F-statistic):</th> <td>2.35e-198</td>\n",
       "</tr>\n",
       "<tr>\n",
       "  <th>Time:</th>                 <td>19:57:31</td>     <th>  Log-Likelihood:    </th> <td> -310.10</td> \n",
       "</tr>\n",
       "<tr>\n",
       "  <th>No. Observations:</th>      <td>   559</td>      <th>  AIC:               </th> <td>   684.2</td> \n",
       "</tr>\n",
       "<tr>\n",
       "  <th>Df Residuals:</th>          <td>   527</td>      <th>  BIC:               </th> <td>   822.6</td> \n",
       "</tr>\n",
       "<tr>\n",
       "  <th>Df Model:</th>              <td>    31</td>      <th>                     </th>     <td> </td>    \n",
       "</tr>\n",
       "<tr>\n",
       "  <th>Covariance Type:</th>         <td>HC1</td>       <th>                     </th>     <td> </td>    \n",
       "</tr>\n",
       "</table>\n",
       "<table class=\"simpletable\">\n",
       "<tr>\n",
       "          <td></td>             <th>coef</th>     <th>std err</th>      <th>t</th>      <th>P>|t|</th>  <th>[0.025</th>    <th>0.975]</th>  \n",
       "</tr>\n",
       "<tr>\n",
       "  <th>const</th>             <td>  -61.2792</td> <td>   40.402</td> <td>   -1.517</td> <td> 0.130</td> <td> -140.649</td> <td>   18.091</td>\n",
       "</tr>\n",
       "<tr>\n",
       "  <th>rating</th>            <td>    0.0638</td> <td>    0.029</td> <td>    2.233</td> <td> 0.026</td> <td>    0.008</td> <td>    0.120</td>\n",
       "</tr>\n",
       "<tr>\n",
       "  <th>disp_diag</th>         <td>    0.0135</td> <td>    0.069</td> <td>    0.196</td> <td> 0.845</td> <td>   -0.122</td> <td>    0.149</td>\n",
       "</tr>\n",
       "<tr>\n",
       "  <th>camera</th>            <td>    0.0077</td> <td>    0.003</td> <td>    2.623</td> <td> 0.009</td> <td>    0.002</td> <td>    0.013</td>\n",
       "</tr>\n",
       "<tr>\n",
       "  <th>storage</th>           <td>    0.0020</td> <td>    0.000</td> <td>    4.480</td> <td> 0.000</td> <td>    0.001</td> <td>    0.003</td>\n",
       "</tr>\n",
       "<tr>\n",
       "  <th>ram</th>               <td>    0.0563</td> <td>    0.014</td> <td>    4.088</td> <td> 0.000</td> <td>    0.029</td> <td>    0.083</td>\n",
       "</tr>\n",
       "<tr>\n",
       "  <th>battery_capacity</th>  <td>-5.432e-05</td> <td> 4.03e-05</td> <td>   -1.349</td> <td> 0.178</td> <td>   -0.000</td> <td> 2.48e-05</td>\n",
       "</tr>\n",
       "<tr>\n",
       "  <th>year_of_release</th>   <td>    0.0349</td> <td>    0.020</td> <td>    1.737</td> <td> 0.083</td> <td>   -0.005</td> <td>    0.074</td>\n",
       "</tr>\n",
       "<tr>\n",
       "  <th>density</th>           <td> 2.516e-06</td> <td> 8.24e-07</td> <td>    3.053</td> <td> 0.002</td> <td> 8.97e-07</td> <td> 4.14e-06</td>\n",
       "</tr>\n",
       "<tr>\n",
       "  <th>Other_oper_syst</th>   <td>    0.2176</td> <td>    0.451</td> <td>    0.482</td> <td> 0.630</td> <td>   -0.669</td> <td>    1.104</td>\n",
       "</tr>\n",
       "<tr>\n",
       "  <th>battery_type_LiPo</th> <td>    0.0351</td> <td>    0.054</td> <td>    0.657</td> <td> 0.512</td> <td>   -0.070</td> <td>    0.140</td>\n",
       "</tr>\n",
       "<tr>\n",
       "  <th>brand_Apple</th>       <td>    0.9736</td> <td>    0.122</td> <td>    7.979</td> <td> 0.000</td> <td>    0.734</td> <td>    1.213</td>\n",
       "</tr>\n",
       "<tr>\n",
       "  <th>brand_BlackBerry</th>  <td>    0.1798</td> <td>    0.216</td> <td>    0.831</td> <td> 0.406</td> <td>   -0.245</td> <td>    0.605</td>\n",
       "</tr>\n",
       "<tr>\n",
       "  <th>brand_Cubot</th>       <td>    0.3152</td> <td>    0.092</td> <td>    3.424</td> <td> 0.001</td> <td>    0.134</td> <td>    0.496</td>\n",
       "</tr>\n",
       "<tr>\n",
       "  <th>brand_Gionee</th>      <td>   -0.1408</td> <td>    0.113</td> <td>   -1.247</td> <td> 0.213</td> <td>   -0.363</td> <td>    0.081</td>\n",
       "</tr>\n",
       "<tr>\n",
       "  <th>brand_Google</th>      <td>    0.5760</td> <td>    0.260</td> <td>    2.219</td> <td> 0.027</td> <td>    0.066</td> <td>    1.086</td>\n",
       "</tr>\n",
       "<tr>\n",
       "  <th>brand_HTC</th>         <td>    0.0013</td> <td>    0.104</td> <td>    0.013</td> <td> 0.990</td> <td>   -0.204</td> <td>    0.207</td>\n",
       "</tr>\n",
       "<tr>\n",
       "  <th>brand_Honor</th>       <td>    0.7337</td> <td>    0.171</td> <td>    4.286</td> <td> 0.000</td> <td>    0.397</td> <td>    1.070</td>\n",
       "</tr>\n",
       "<tr>\n",
       "  <th>brand_Huawei</th>      <td>   -0.0384</td> <td>    0.082</td> <td>   -0.470</td> <td> 0.639</td> <td>   -0.199</td> <td>    0.122</td>\n",
       "</tr>\n",
       "<tr>\n",
       "  <th>brand_Infinix</th>     <td>   -0.1524</td> <td>    0.077</td> <td>   -1.967</td> <td> 0.050</td> <td>   -0.305</td> <td>   -0.000</td>\n",
       "</tr>\n",
       "<tr>\n",
       "  <th>brand_LG</th>          <td>    0.4522</td> <td>    0.154</td> <td>    2.939</td> <td> 0.003</td> <td>    0.150</td> <td>    0.755</td>\n",
       "</tr>\n",
       "<tr>\n",
       "  <th>brand_Lava</th>        <td>   -0.6389</td> <td>    0.096</td> <td>   -6.661</td> <td> 0.000</td> <td>   -0.827</td> <td>   -0.450</td>\n",
       "</tr>\n",
       "<tr>\n",
       "  <th>brand_Lenovo</th>      <td>   -0.0231</td> <td>    0.088</td> <td>   -0.264</td> <td> 0.792</td> <td>   -0.195</td> <td>    0.149</td>\n",
       "</tr>\n",
       "<tr>\n",
       "  <th>brand_Motorola</th>    <td>    0.6465</td> <td>    0.194</td> <td>    3.330</td> <td> 0.001</td> <td>    0.265</td> <td>    1.028</td>\n",
       "</tr>\n",
       "<tr>\n",
       "  <th>brand_Nokia</th>       <td>   -0.1125</td> <td>    0.088</td> <td>   -1.280</td> <td> 0.201</td> <td>   -0.285</td> <td>    0.060</td>\n",
       "</tr>\n",
       "<tr>\n",
       "  <th>brand_OnePlus</th>     <td>    0.6215</td> <td>    0.100</td> <td>    6.199</td> <td> 0.000</td> <td>    0.425</td> <td>    0.818</td>\n",
       "</tr>\n",
       "<tr>\n",
       "  <th>brand_Oppo</th>        <td>   -0.0341</td> <td>    0.095</td> <td>   -0.358</td> <td> 0.720</td> <td>   -0.221</td> <td>    0.153</td>\n",
       "</tr>\n",
       "<tr>\n",
       "  <th>brand_Realme</th>      <td>   -0.0471</td> <td>    0.107</td> <td>   -0.439</td> <td> 0.661</td> <td>   -0.258</td> <td>    0.164</td>\n",
       "</tr>\n",
       "<tr>\n",
       "  <th>brand_Samsung</th>     <td>    0.1801</td> <td>    0.072</td> <td>    2.508</td> <td> 0.012</td> <td>    0.039</td> <td>    0.321</td>\n",
       "</tr>\n",
       "<tr>\n",
       "  <th>brand_Sony</th>        <td>    0.3684</td> <td>    0.154</td> <td>    2.385</td> <td> 0.017</td> <td>    0.065</td> <td>    0.672</td>\n",
       "</tr>\n",
       "<tr>\n",
       "  <th>brand_Tecno</th>       <td>    0.0388</td> <td>    0.088</td> <td>    0.440</td> <td> 0.660</td> <td>   -0.134</td> <td>    0.212</td>\n",
       "</tr>\n",
       "<tr>\n",
       "  <th>brand_Vivo</th>        <td>    0.1431</td> <td>    0.067</td> <td>    2.132</td> <td> 0.033</td> <td>    0.011</td> <td>    0.275</td>\n",
       "</tr>\n",
       "</table>\n",
       "<table class=\"simpletable\">\n",
       "<tr>\n",
       "  <th>Omnibus:</th>       <td> 5.272</td> <th>  Durbin-Watson:     </th> <td>   1.497</td>\n",
       "</tr>\n",
       "<tr>\n",
       "  <th>Prob(Omnibus):</th> <td> 0.072</td> <th>  Jarque-Bera (JB):  </th> <td>   5.180</td>\n",
       "</tr>\n",
       "<tr>\n",
       "  <th>Skew:</th>          <td> 0.235</td> <th>  Prob(JB):          </th> <td>  0.0750</td>\n",
       "</tr>\n",
       "<tr>\n",
       "  <th>Kurtosis:</th>      <td> 3.048</td> <th>  Cond. No.          </th> <td>1.42e+08</td>\n",
       "</tr>\n",
       "</table><br/><br/>Notes:<br/>[1] Standard Errors are heteroscedasticity robust (HC1)<br/>[2] The condition number is large, 1.42e+08. This might indicate that there are<br/>strong multicollinearity or other numerical problems."
      ],
      "text/plain": [
       "<class 'statsmodels.iolib.summary.Summary'>\n",
       "\"\"\"\n",
       "                            OLS Regression Results                            \n",
       "==============================================================================\n",
       "Dep. Variable:              log_price   R-squared:                       0.576\n",
       "Model:                            OLS   Adj. R-squared:                  0.551\n",
       "Method:                 Least Squares   F-statistic:                     99.65\n",
       "Date:                Tue, 09 May 2023   Prob (F-statistic):          2.35e-198\n",
       "Time:                        19:57:31   Log-Likelihood:                -310.10\n",
       "No. Observations:                 559   AIC:                             684.2\n",
       "Df Residuals:                     527   BIC:                             822.6\n",
       "Df Model:                          31                                         \n",
       "Covariance Type:                  HC1                                         \n",
       "=====================================================================================\n",
       "                        coef    std err          t      P>|t|      [0.025      0.975]\n",
       "-------------------------------------------------------------------------------------\n",
       "const               -61.2792     40.402     -1.517      0.130    -140.649      18.091\n",
       "rating                0.0638      0.029      2.233      0.026       0.008       0.120\n",
       "disp_diag             0.0135      0.069      0.196      0.845      -0.122       0.149\n",
       "camera                0.0077      0.003      2.623      0.009       0.002       0.013\n",
       "storage               0.0020      0.000      4.480      0.000       0.001       0.003\n",
       "ram                   0.0563      0.014      4.088      0.000       0.029       0.083\n",
       "battery_capacity  -5.432e-05   4.03e-05     -1.349      0.178      -0.000    2.48e-05\n",
       "year_of_release       0.0349      0.020      1.737      0.083      -0.005       0.074\n",
       "density            2.516e-06   8.24e-07      3.053      0.002    8.97e-07    4.14e-06\n",
       "Other_oper_syst       0.2176      0.451      0.482      0.630      -0.669       1.104\n",
       "battery_type_LiPo     0.0351      0.054      0.657      0.512      -0.070       0.140\n",
       "brand_Apple           0.9736      0.122      7.979      0.000       0.734       1.213\n",
       "brand_BlackBerry      0.1798      0.216      0.831      0.406      -0.245       0.605\n",
       "brand_Cubot           0.3152      0.092      3.424      0.001       0.134       0.496\n",
       "brand_Gionee         -0.1408      0.113     -1.247      0.213      -0.363       0.081\n",
       "brand_Google          0.5760      0.260      2.219      0.027       0.066       1.086\n",
       "brand_HTC             0.0013      0.104      0.013      0.990      -0.204       0.207\n",
       "brand_Honor           0.7337      0.171      4.286      0.000       0.397       1.070\n",
       "brand_Huawei         -0.0384      0.082     -0.470      0.639      -0.199       0.122\n",
       "brand_Infinix        -0.1524      0.077     -1.967      0.050      -0.305      -0.000\n",
       "brand_LG              0.4522      0.154      2.939      0.003       0.150       0.755\n",
       "brand_Lava           -0.6389      0.096     -6.661      0.000      -0.827      -0.450\n",
       "brand_Lenovo         -0.0231      0.088     -0.264      0.792      -0.195       0.149\n",
       "brand_Motorola        0.6465      0.194      3.330      0.001       0.265       1.028\n",
       "brand_Nokia          -0.1125      0.088     -1.280      0.201      -0.285       0.060\n",
       "brand_OnePlus         0.6215      0.100      6.199      0.000       0.425       0.818\n",
       "brand_Oppo           -0.0341      0.095     -0.358      0.720      -0.221       0.153\n",
       "brand_Realme         -0.0471      0.107     -0.439      0.661      -0.258       0.164\n",
       "brand_Samsung         0.1801      0.072      2.508      0.012       0.039       0.321\n",
       "brand_Sony            0.3684      0.154      2.385      0.017       0.065       0.672\n",
       "brand_Tecno           0.0388      0.088      0.440      0.660      -0.134       0.212\n",
       "brand_Vivo            0.1431      0.067      2.132      0.033       0.011       0.275\n",
       "==============================================================================\n",
       "Omnibus:                        5.272   Durbin-Watson:                   1.497\n",
       "Prob(Omnibus):                  0.072   Jarque-Bera (JB):                5.180\n",
       "Skew:                           0.235   Prob(JB):                       0.0750\n",
       "Kurtosis:                       3.048   Cond. No.                     1.42e+08\n",
       "==============================================================================\n",
       "\n",
       "Notes:\n",
       "[1] Standard Errors are heteroscedasticity robust (HC1)\n",
       "[2] The condition number is large, 1.42e+08. This might indicate that there are\n",
       "strong multicollinearity or other numerical problems.\n",
       "\"\"\""
      ]
     },
     "execution_count": 57,
     "metadata": {},
     "output_type": "execute_result"
    }
   ],
   "source": [
    "ols4 = sm.OLS(data['log_price'], data.drop(columns = ['log_price'])).fit()\n",
    "ols4_robust = ols4.get_robustcov_results()\n",
    "ols4_robust.summary()"
   ]
  },
  {
   "cell_type": "markdown",
   "id": "265563c4",
   "metadata": {},
   "source": [
    "#### 4.2 Спецификация модели (Тест Рамсея)"
   ]
  },
  {
   "cell_type": "code",
   "execution_count": 59,
   "id": "98386584",
   "metadata": {},
   "outputs": [
    {
     "name": "stdout",
     "output_type": "stream",
     "text": [
      "=2.7434839853274218\n",
      "p=0.09824801830525394\n"
     ]
    }
   ],
   "source": [
    "rams = reset_ramsey(ols4_robust, degree = 2)\n",
    "print(f\"{rams.summary().split(', ')[0][-19:]}\")\n",
    "print(f\"{rams.summary().split(', ')[1]}\")"
   ]
  },
  {
   "cell_type": "markdown",
   "id": "3d4b94e2",
   "metadata": {},
   "source": [
    "* Нулевая гипотеза не отвергается на 5% уровне значимости для второй степени, следовательно гипотеза о том, что модель правильно специфицирована не отвергается. Другими словами, на 5% уровне значимости нельзя отвергать гипотезу, что выбранная модель специфицированна правильно."
   ]
  },
  {
   "cell_type": "markdown",
   "id": "2334c878",
   "metadata": {},
   "source": [
    "#### 4.3 Проверка нормальности остатков (Тест Харке-Бера) "
   ]
  },
  {
   "cell_type": "code",
   "execution_count": 58,
   "id": "44ef0d21",
   "metadata": {},
   "outputs": [
    {
     "name": "stdout",
     "output_type": "stream",
     "text": [
      "Тест Харке-Бера p_value = 0.07502183295577924\n"
     ]
    }
   ],
   "source": [
    "_, p_value = stats.jarque_bera(ols4_robust.resid)\n",
    "print(f\"Тест Харке-Бера p_value = {p_value}\") #"
   ]
  },
  {
   "cell_type": "markdown",
   "id": "4eb07157",
   "metadata": {},
   "source": [
    "Нулевая гипотеза о том, что остатки имеют нормальное распределение, не отвергается на 5% уровне значимости. Следовательно, так как остатки являются оценкой ошибок, то на 5% уровне значимости не отвергается гипотеза о том, что выполняется предпосылка КЛММР о стадартном нормальном распределении ошибок."
   ]
  },
  {
   "cell_type": "markdown",
   "id": "60ace901",
   "metadata": {},
   "source": [
    "#### Составление таблицы"
   ]
  },
  {
   "cell_type": "code",
   "execution_count": 43,
   "id": "86197bb3",
   "metadata": {},
   "outputs": [],
   "source": [
    "from stargazer.stargazer import Stargazer\n",
    "stargazer = Stargazer([ols1, ols2, ols3, ols4])\n",
    "Func = open(\"ols.html\",\"w\")\n",
    "\n",
    "Func.write(stargazer.render_html())\n",
    "\n",
    "Func.close()"
   ]
  }
 ],
 "metadata": {
  "kernelspec": {
   "display_name": "Python 3 (ipykernel)",
   "language": "python",
   "name": "python3"
  },
  "language_info": {
   "codemirror_mode": {
    "name": "ipython",
    "version": 3
   },
   "file_extension": ".py",
   "mimetype": "text/x-python",
   "name": "python",
   "nbconvert_exporter": "python",
   "pygments_lexer": "ipython3",
   "version": "3.8.5"
  }
 },
 "nbformat": 4,
 "nbformat_minor": 5
}
