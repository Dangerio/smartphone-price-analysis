{
 "cells": [
  {
   "cell_type": "code",
   "execution_count": 159,
   "id": "6df0d857",
   "metadata": {},
   "outputs": [],
   "source": [
    "#Блок в рамках которого импотряться математические подсчеты, падас и нампай\n",
    "import pandas as pd\n",
    "import numpy as np\n",
    "from scipy.stats import iqr\n",
    "from scipy import stats\n",
    "from scipy.stats import skew\n",
    "from scipy.stats import kurtosis\n",
    "import scipy.stats\n",
    "import scipy as sp\n",
    "import scipy.stats as stats\n",
    "from scipy.stats import t\n",
    "\n",
    "#Блок в рамках которого импотряться графики\n",
    "import plotly.express as px\n",
    "from plotly.subplots import make_subplots\n",
    "import plotly.graph_objects as go\n",
    "import matplotlib.pyplot as plt\n",
    "import seaborn as sns \n",
    "from matplotlib.pyplot import figure\n",
    "sns.set_style('darkgrid')\n",
    "\n",
    "#Блок в рамках которого импотряться статистические пакеты\n",
    "import statsmodels.api as sm \n",
    "import statsmodels.formula.api as smf \n",
    "from sklearn.preprocessing import OneHotEncoder\n",
    "from statsmodels.stats.outliers_influence import variance_inflation_factor\n",
    "from statsmodels.tools.tools import add_constant\n",
    "from statsmodels.regression.linear_model import OLS\n",
    "from sklearn.decomposition import PCA\n",
    "from statsmodels.stats.diagnostic import het_white, het_goldfeldquandt, het_breuschpagan\n",
    "from statsmodels.stats.outliers_influence import reset_ramsey\n",
    "from statsmodels.stats.diagnostic import compare_encompassing \n",
    "from linearmodels.iv import IV2SLS\n",
    "\n",
    "#Блок в рамках которого импотряться операционные пакеты\n",
    "import os\n"
   ]
  },
  {
   "cell_type": "markdown",
   "id": "aae4381b",
   "metadata": {},
   "source": [
    "# Содержание работы\n",
    "7. [Endogeneity](#subparagraph0)  - решение проблемы эндогенности"
   ]
  },
  {
   "cell_type": "code",
   "execution_count": 160,
   "id": "c2ff8bfe",
   "metadata": {},
   "outputs": [],
   "source": [
    "data = pd.read_csv('data\\PhonesDF_years_corrected_v2.csv').set_index('phone_title')\n",
    "all_spec = pd.read_csv('data\\PhonesPriceInKenya_v2.csv').set_index('Phone Title')['Specs Score']\n",
    "# data.shape"
   ]
  },
  {
   "cell_type": "code",
   "execution_count": 161,
   "id": "476bdeec",
   "metadata": {},
   "outputs": [
    {
     "data": {
      "text/plain": [
       "(559, 34)"
      ]
     },
     "execution_count": 161,
     "metadata": {},
     "output_type": "execute_result"
    }
   ],
   "source": [
    "data = data.join(pd.DataFrame(all_spec))\n",
    "data['Specs Score'] = data['Specs Score'].str.replace('%', '').astype(int)\n",
    "data = add_constant(data)\n",
    "data.shape"
   ]
  },
  {
   "cell_type": "markdown",
   "id": "4416b20d",
   "metadata": {},
   "source": [
    "### 7. Endogeneity"
   ]
  },
  {
   "cell_type": "markdown",
   "id": "c0a1902d",
   "metadata": {},
   "source": [
    "В рамках датасета можно отметить, что пропущены характеристики, отражающие производительность смартфона (графический и центральный процессоры). В то же время такая характеристика как ёмкость батареи ('battery_capacity') может иметь коореляцию с мощностью графического и/или центрального процессора. Следовательно, это может приводить к к проблеме эндогенности.\n",
    "\n",
    "В рамках решения данной проблемы воспользуюмся 2SLS"
   ]
  },
  {
   "cell_type": "markdown",
   "id": "a55fbaf6",
   "metadata": {},
   "source": [
    "#### 7.1 battery_capacity - эндогенный"
   ]
  },
  {
   "cell_type": "code",
   "execution_count": 162,
   "id": "7d90f724",
   "metadata": {},
   "outputs": [],
   "source": [
    "mask_exog_and_instr3 = ['const', 'rating', 'disp_diag', 'camera', 'storage',\n",
    "               'density', 'Other_oper_syst', 'battery_type_LiPo', 'brand_Apple',\n",
    "               'brand_BlackBerry', 'brand_Cubot', 'brand_Gionee', 'brand_Google',\n",
    "               'brand_HTC', 'brand_Honor', 'brand_Huawei', 'brand_Infinix', 'brand_LG',\n",
    "               'brand_Lava', 'brand_Lenovo', 'brand_Motorola', 'brand_Nokia',\n",
    "               'brand_OnePlus', 'brand_Oppo', 'brand_Realme', 'brand_Samsung',\n",
    "               'brand_Sony', 'brand_Tecno', 'brand_Vivo', 'Specs Score', 'year_of_release', 'ram']\n",
    "\n",
    "mask_exog3 = ['const', 'rating', 'disp_diag', 'camera', 'storage',\n",
    "               'density', 'Other_oper_syst', 'battery_type_LiPo', 'brand_Apple',\n",
    "               'brand_BlackBerry', 'brand_Cubot', 'brand_Gionee', 'brand_Google',\n",
    "               'brand_HTC', 'brand_Honor', 'brand_Huawei', 'brand_Infinix', 'brand_LG',\n",
    "               'brand_Lava', 'brand_Lenovo', 'brand_Motorola', 'brand_Nokia',\n",
    "               'brand_OnePlus', 'brand_Oppo', 'brand_Realme', 'brand_Samsung',\n",
    "               'brand_Sony', 'brand_Tecno', 'brand_Vivo', 'year_of_release', 'ram']"
   ]
  },
  {
   "cell_type": "code",
   "execution_count": 163,
   "id": "86ae4cb1",
   "metadata": {},
   "outputs": [
    {
     "data": {
      "text/html": [
       "<table class=\"simpletable\">\n",
       "<caption>OLS Estimation Summary</caption>\n",
       "<tr>\n",
       "  <th>Dep. Variable:</th>    <td>battery_capacity</td> <th>  R-squared:         </th>  <td>0.7142</td> \n",
       "</tr>\n",
       "<tr>\n",
       "  <th>Estimator:</th>               <td>OLS</td>       <th>  Adj. R-squared:    </th>  <td>0.6974</td> \n",
       "</tr>\n",
       "<tr>\n",
       "  <th>No. Observations:</th>        <td>559</td>       <th>  F-statistic:       </th>  <td>3654.6</td> \n",
       "</tr>\n",
       "<tr>\n",
       "  <th>Date:</th>             <td>Wed, May 10 2023</td> <th>  P-value (F-stat)   </th>  <td>0.0000</td> \n",
       "</tr>\n",
       "<tr>\n",
       "  <th>Time:</th>                 <td>23:34:19</td>     <th>  Distribution:      </th> <td>chi2(31)</td>\n",
       "</tr>\n",
       "<tr>\n",
       "  <th>Cov. Estimator:</th>        <td>robust</td>      <th>                     </th>     <td></td>    \n",
       "</tr>\n",
       "<tr>\n",
       "  <th></th>                          <td></td>         <th>                     </th>     <td></td>    \n",
       "</tr>\n",
       "</table>\n",
       "<table class=\"simpletable\">\n",
       "<caption>Parameter Estimates</caption>\n",
       "<tr>\n",
       "          <td></td>          <th>Parameter</th> <th>Std. Err.</th> <th>T-stat</th>  <th>P-value</th> <th>Lower CI</th> <th>Upper CI</th>\n",
       "</tr>\n",
       "<tr>\n",
       "  <th>const</th>              <td>-97.011</td>   <td>39.574</td>   <td>-2.4514</td> <td>0.0142</td>   <td>-174.57</td>  <td>-19.448</td>\n",
       "</tr>\n",
       "<tr>\n",
       "  <th>rating</th>             <td>-0.0498</td>   <td>0.0284</td>   <td>-1.7552</td> <td>0.0792</td>   <td>-0.1053</td>  <td>0.0058</td> \n",
       "</tr>\n",
       "<tr>\n",
       "  <th>disp_diag</th>          <td>0.8751</td>    <td>0.0662</td>   <td>13.214</td>  <td>0.0000</td>   <td>0.7453</td>   <td>1.0049</td> \n",
       "</tr>\n",
       "<tr>\n",
       "  <th>camera</th>             <td>-0.0091</td>   <td>0.0032</td>   <td>-2.8430</td> <td>0.0045</td>   <td>-0.0154</td>  <td>-0.0028</td>\n",
       "</tr>\n",
       "<tr>\n",
       "  <th>storage</th>            <td>-0.0009</td>   <td>0.0003</td>   <td>-2.7639</td> <td>0.0057</td>   <td>-0.0016</td>  <td>-0.0003</td>\n",
       "</tr>\n",
       "<tr>\n",
       "  <th>density</th>            <td>-0.0054</td>   <td>0.0089</td>   <td>-0.6090</td> <td>0.5425</td>   <td>-0.0228</td>  <td>0.0120</td> \n",
       "</tr>\n",
       "<tr>\n",
       "  <th>Other_oper_syst</th>    <td>-0.0628</td>   <td>0.4289</td>   <td>-0.1463</td> <td>0.8836</td>   <td>-0.9034</td>  <td>0.7778</td> \n",
       "</tr>\n",
       "<tr>\n",
       "  <th>battery_type_LiPo</th>  <td>0.1849</td>    <td>0.0551</td>   <td>3.3577</td>  <td>0.0008</td>   <td>0.0770</td>   <td>0.2928</td> \n",
       "</tr>\n",
       "<tr>\n",
       "  <th>brand_Apple</th>        <td>-0.4626</td>   <td>0.0958</td>   <td>-4.8307</td> <td>0.0000</td>   <td>-0.6503</td>  <td>-0.2749</td>\n",
       "</tr>\n",
       "<tr>\n",
       "  <th>brand_BlackBerry</th>   <td>0.5873</td>    <td>0.1801</td>   <td>3.2612</td>  <td>0.0011</td>   <td>0.2343</td>   <td>0.9402</td> \n",
       "</tr>\n",
       "<tr>\n",
       "  <th>brand_Cubot</th>        <td>0.2150</td>    <td>0.3558</td>   <td>0.6041</td>  <td>0.5458</td>   <td>-0.4825</td>  <td>0.9124</td> \n",
       "</tr>\n",
       "<tr>\n",
       "  <th>brand_Gionee</th>       <td>0.1200</td>    <td>0.0742</td>   <td>1.6168</td>  <td>0.1059</td>   <td>-0.0255</td>  <td>0.2654</td> \n",
       "</tr>\n",
       "<tr>\n",
       "  <th>brand_Google</th>       <td>-0.2668</td>   <td>0.1474</td>   <td>-1.8102</td> <td>0.0703</td>   <td>-0.5556</td>  <td>0.0221</td> \n",
       "</tr>\n",
       "<tr>\n",
       "  <th>brand_HTC</th>          <td>-0.2287</td>   <td>0.0930</td>   <td>-2.4585</td> <td>0.0140</td>   <td>-0.4111</td>  <td>-0.0464</td>\n",
       "</tr>\n",
       "<tr>\n",
       "  <th>brand_Honor</th>        <td>-0.5683</td>   <td>0.0755</td>   <td>-7.5279</td> <td>0.0000</td>   <td>-0.7163</td>  <td>-0.4204</td>\n",
       "</tr>\n",
       "<tr>\n",
       "  <th>brand_Huawei</th>       <td>-0.3153</td>   <td>0.0708</td>   <td>-4.4561</td> <td>0.0000</td>   <td>-0.4539</td>  <td>-0.1766</td>\n",
       "</tr>\n",
       "<tr>\n",
       "  <th>brand_Infinix</th>      <td>0.0352</td>    <td>0.0869</td>   <td>0.4056</td>  <td>0.6850</td>   <td>-0.1351</td>  <td>0.2055</td> \n",
       "</tr>\n",
       "<tr>\n",
       "  <th>brand_LG</th>           <td>-0.3678</td>   <td>0.0943</td>   <td>-3.9007</td> <td>0.0001</td>   <td>-0.5525</td>  <td>-0.1830</td>\n",
       "</tr>\n",
       "<tr>\n",
       "  <th>brand_Lava</th>         <td>-0.6178</td>   <td>0.2212</td>   <td>-2.7931</td> <td>0.0052</td>   <td>-1.0513</td>  <td>-0.1843</td>\n",
       "</tr>\n",
       "<tr>\n",
       "  <th>brand_Lenovo</th>       <td>-0.4094</td>   <td>0.1259</td>   <td>-3.2519</td> <td>0.0011</td>   <td>-0.6561</td>  <td>-0.1626</td>\n",
       "</tr>\n",
       "<tr>\n",
       "  <th>brand_Motorola</th>     <td>0.1927</td>    <td>0.3704</td>   <td>0.5202</td>  <td>0.6029</td>   <td>-0.5333</td>  <td>0.9187</td> \n",
       "</tr>\n",
       "<tr>\n",
       "  <th>brand_Nokia</th>        <td>-0.4696</td>   <td>0.1019</td>   <td>-4.6067</td> <td>0.0000</td>   <td>-0.6694</td>  <td>-0.2698</td>\n",
       "</tr>\n",
       "<tr>\n",
       "  <th>brand_OnePlus</th>      <td>-0.4570</td>   <td>0.0866</td>   <td>-5.2801</td> <td>0.0000</td>   <td>-0.6267</td>  <td>-0.2874</td>\n",
       "</tr>\n",
       "<tr>\n",
       "  <th>brand_Oppo</th>         <td>-0.1866</td>   <td>0.0828</td>   <td>-2.2533</td> <td>0.0242</td>   <td>-0.3489</td>  <td>-0.0243</td>\n",
       "</tr>\n",
       "<tr>\n",
       "  <th>brand_Realme</th>       <td>0.3252</td>    <td>0.1345</td>   <td>2.4183</td>  <td>0.0156</td>   <td>0.0616</td>   <td>0.5888</td> \n",
       "</tr>\n",
       "<tr>\n",
       "  <th>brand_Samsung</th>      <td>-0.0712</td>   <td>0.0862</td>   <td>-0.8263</td> <td>0.4086</td>   <td>-0.2402</td>  <td>0.0977</td> \n",
       "</tr>\n",
       "<tr>\n",
       "  <th>brand_Sony</th>         <td>-0.1556</td>   <td>0.1373</td>   <td>-1.1334</td> <td>0.2570</td>   <td>-0.4247</td>  <td>0.1135</td> \n",
       "</tr>\n",
       "<tr>\n",
       "  <th>brand_Tecno</th>        <td>0.1768</td>    <td>0.1317</td>   <td>1.3427</td>  <td>0.1794</td>   <td>-0.0813</td>  <td>0.4349</td> \n",
       "</tr>\n",
       "<tr>\n",
       "  <th>brand_Vivo</th>         <td>0.6788</td>    <td>0.0710</td>   <td>9.5565</td>  <td>0.0000</td>   <td>0.5395</td>   <td>0.8180</td> \n",
       "</tr>\n",
       "<tr>\n",
       "  <th>Specs Score</th>        <td>0.0103</td>    <td>0.0025</td>   <td>4.0916</td>  <td>0.0000</td>   <td>0.0054</td>   <td>0.0153</td> \n",
       "</tr>\n",
       "<tr>\n",
       "  <th>year_of_release</th>    <td>0.0473</td>    <td>0.0197</td>   <td>2.3991</td>  <td>0.0164</td>   <td>0.0087</td>   <td>0.0859</td> \n",
       "</tr>\n",
       "<tr>\n",
       "  <th>ram</th>                <td>-0.0333</td>   <td>0.0093</td>   <td>-3.6002</td> <td>0.0003</td>   <td>-0.0515</td>  <td>-0.0152</td>\n",
       "</tr>\n",
       "</table><br/>id: 0x1cc8b326f70"
      ],
      "text/plain": [
       "                            OLS Estimation Summary                            \n",
       "==============================================================================\n",
       "Dep. Variable:       battery_capacity   R-squared:                      0.7142\n",
       "Estimator:                        OLS   Adj. R-squared:                 0.6974\n",
       "No. Observations:                 559   F-statistic:                    3654.6\n",
       "Date:                Wed, May 10 2023   P-value (F-stat)                0.0000\n",
       "Time:                        23:34:19   Distribution:                 chi2(31)\n",
       "Cov. Estimator:                robust                                         \n",
       "                                                                              \n",
       "                                 Parameter Estimates                                 \n",
       "=====================================================================================\n",
       "                   Parameter  Std. Err.     T-stat    P-value    Lower CI    Upper CI\n",
       "-------------------------------------------------------------------------------------\n",
       "const                -97.011     39.574    -2.4514     0.0142     -174.57     -19.448\n",
       "rating               -0.0498     0.0284    -1.7552     0.0792     -0.1053      0.0058\n",
       "disp_diag             0.8751     0.0662     13.214     0.0000      0.7453      1.0049\n",
       "camera               -0.0091     0.0032    -2.8430     0.0045     -0.0154     -0.0028\n",
       "storage              -0.0009     0.0003    -2.7639     0.0057     -0.0016     -0.0003\n",
       "density              -0.0054     0.0089    -0.6090     0.5425     -0.0228      0.0120\n",
       "Other_oper_syst      -0.0628     0.4289    -0.1463     0.8836     -0.9034      0.7778\n",
       "battery_type_LiPo     0.1849     0.0551     3.3577     0.0008      0.0770      0.2928\n",
       "brand_Apple          -0.4626     0.0958    -4.8307     0.0000     -0.6503     -0.2749\n",
       "brand_BlackBerry      0.5873     0.1801     3.2612     0.0011      0.2343      0.9402\n",
       "brand_Cubot           0.2150     0.3558     0.6041     0.5458     -0.4825      0.9124\n",
       "brand_Gionee          0.1200     0.0742     1.6168     0.1059     -0.0255      0.2654\n",
       "brand_Google         -0.2668     0.1474    -1.8102     0.0703     -0.5556      0.0221\n",
       "brand_HTC            -0.2287     0.0930    -2.4585     0.0140     -0.4111     -0.0464\n",
       "brand_Honor          -0.5683     0.0755    -7.5279     0.0000     -0.7163     -0.4204\n",
       "brand_Huawei         -0.3153     0.0708    -4.4561     0.0000     -0.4539     -0.1766\n",
       "brand_Infinix         0.0352     0.0869     0.4056     0.6850     -0.1351      0.2055\n",
       "brand_LG             -0.3678     0.0943    -3.9007     0.0001     -0.5525     -0.1830\n",
       "brand_Lava           -0.6178     0.2212    -2.7931     0.0052     -1.0513     -0.1843\n",
       "brand_Lenovo         -0.4094     0.1259    -3.2519     0.0011     -0.6561     -0.1626\n",
       "brand_Motorola        0.1927     0.3704     0.5202     0.6029     -0.5333      0.9187\n",
       "brand_Nokia          -0.4696     0.1019    -4.6067     0.0000     -0.6694     -0.2698\n",
       "brand_OnePlus        -0.4570     0.0866    -5.2801     0.0000     -0.6267     -0.2874\n",
       "brand_Oppo           -0.1866     0.0828    -2.2533     0.0242     -0.3489     -0.0243\n",
       "brand_Realme          0.3252     0.1345     2.4183     0.0156      0.0616      0.5888\n",
       "brand_Samsung        -0.0712     0.0862    -0.8263     0.4086     -0.2402      0.0977\n",
       "brand_Sony           -0.1556     0.1373    -1.1334     0.2570     -0.4247      0.1135\n",
       "brand_Tecno           0.1768     0.1317     1.3427     0.1794     -0.0813      0.4349\n",
       "brand_Vivo            0.6788     0.0710     9.5565     0.0000      0.5395      0.8180\n",
       "Specs Score           0.0103     0.0025     4.0916     0.0000      0.0054      0.0153\n",
       "year_of_release       0.0473     0.0197     2.3991     0.0164      0.0087      0.0859\n",
       "ram                  -0.0333     0.0093    -3.6002     0.0003     -0.0515     -0.0152\n",
       "=====================================================================================\n",
       "OLSResults, id: 0x1cc8b326f70"
      ]
     },
     "execution_count": 163,
     "metadata": {},
     "output_type": "execute_result"
    }
   ],
   "source": [
    "first_step_2SLS3 = IV2SLS(dependent = data['battery_capacity'],  exog = data[mask_exog_and_instr3], endog = None, instruments= None, weights=  None)\n",
    "first_step_2SLS3 = first_step_2SLS3.fit()\n",
    "first_step_2SLS3"
   ]
  },
  {
   "cell_type": "code",
   "execution_count": 165,
   "id": "f4af6712",
   "metadata": {},
   "outputs": [
    {
     "name": "stdout",
     "output_type": "stream",
     "text": [
      "                          IV-2SLS Estimation Summary                          \n",
      "==============================================================================\n",
      "Dep. Variable:              log_price   R-squared:                      0.5749\n",
      "Estimator:                    IV-2SLS   Adj. R-squared:                 0.5499\n",
      "No. Observations:                 559   F-statistic:                    5020.9\n",
      "Date:                Wed, May 10 2023   P-value (F-stat)                0.0000\n",
      "Time:                        23:34:39   Distribution:                 chi2(31)\n",
      "Cov. Estimator:                robust                                         \n",
      "                                                                              \n",
      "                                 Parameter Estimates                                 \n",
      "=====================================================================================\n",
      "                   Parameter  Std. Err.     T-stat    P-value    Lower CI    Upper CI\n",
      "-------------------------------------------------------------------------------------\n",
      "const                -56.705     46.456    -1.2206     0.2222     -147.76      34.347\n",
      "rating                0.0652     0.0292     2.2318     0.0256      0.0079      0.1224\n",
      "disp_diag            -0.0207     0.1964    -0.1054     0.9161     -0.4056      0.3642\n",
      "camera                0.0078     0.0029     2.6319     0.0085      0.0020      0.0135\n",
      "storage               0.0021     0.0005     4.5204     0.0000      0.0012      0.0030\n",
      "density               0.0249     0.0082     3.0519     0.0023      0.0089      0.0409\n",
      "Other_oper_syst       0.2190     0.4510     0.4855     0.6273     -0.6650      1.1029\n",
      "battery_type_LiPo     0.0261     0.0750     0.3475     0.7282     -0.1209      0.1730\n",
      "brand_Apple           0.9967     0.1557     6.4021     0.0000      0.6915      1.3018\n",
      "brand_BlackBerry      0.1597     0.2362     0.6762     0.4989     -0.3032      0.6226\n",
      "brand_Cubot           0.3110     0.0896     3.4693     0.0005      0.1353      0.4867\n",
      "brand_Gionee         -0.1418     0.1096    -1.2933     0.1959     -0.3566      0.0731\n",
      "brand_Google          0.5902     0.2654     2.2238     0.0262      0.0700      1.1104\n",
      "brand_HTC             0.0134     0.1175     0.1136     0.9095     -0.2170      0.2437\n",
      "brand_Honor           0.7552     0.1980     3.8136     0.0001      0.3671      1.1433\n",
      "brand_Huawei         -0.0240     0.1084    -0.2211     0.8250     -0.2364      0.1885\n",
      "brand_Infinix        -0.1491     0.0775    -1.9243     0.0543     -0.3009      0.0028\n",
      "brand_LG              0.4695     0.1766     2.6588     0.0078      0.1234      0.8156\n",
      "brand_Lava           -0.6106     0.1713    -3.5654     0.0004     -0.9463     -0.2750\n",
      "brand_Lenovo         -0.0042     0.1336    -0.0311     0.9752     -0.2660      0.2577\n",
      "brand_Motorola        0.6432     0.1914     3.3609     0.0008      0.2681      1.0183\n",
      "brand_Nokia          -0.0912     0.1383    -0.6592     0.5097     -0.3622      0.1799\n",
      "brand_OnePlus         0.6406     0.1478     4.3337     0.0000      0.3509      0.9304\n",
      "brand_Oppo           -0.0252     0.1063    -0.2374     0.8124     -0.2336      0.1832\n",
      "brand_Realme         -0.0582     0.1220    -0.4770     0.6334     -0.2972      0.1809\n",
      "brand_Samsung         0.1862     0.0757     2.4596     0.0139      0.0378      0.3346\n",
      "brand_Sony            0.3780     0.1596     2.3681     0.0179      0.0652      0.6909\n",
      "brand_Tecno           0.0375     0.0860     0.4355     0.6632     -0.1312      0.2061\n",
      "brand_Vivo            0.1231     0.1229     1.0011     0.3168     -0.1179      0.3640\n",
      "year_of_release       0.0326     0.0230     1.4202     0.1556     -0.0124      0.0777\n",
      "ram                   0.0569     0.0131     4.3532     0.0000      0.0313      0.0825\n",
      "battery_capacity     -0.0177     0.2008    -0.0883     0.9296     -0.4114      0.3759\n",
      "=====================================================================================\n",
      "\n",
      "Endogenous: battery_capacity\n",
      "Instruments: Specs Score\n",
      "Robust Covariance (Heteroskedastic)\n",
      "Debiased: False\n"
     ]
    }
   ],
   "source": [
    "res_iv3 = IV2SLS(data['log_price'], data[mask_exog3], data['battery_capacity'], \n",
    "                data['Specs Score']).fit()\n",
    "print(res_iv3)\n"
   ]
  },
  {
   "cell_type": "code",
   "execution_count": 166,
   "id": "8a7e0df1",
   "metadata": {},
   "outputs": [
    {
     "name": "stdout",
     "output_type": "stream",
     "text": [
      "Wu-Hausman test of exogeneity\n",
      "H0: All endogenous variables are exogenous\n",
      "Statistic: 0.0305\n",
      "P-value: 0.8614\n",
      "Distributed: F(1,526)\n"
     ]
    }
   ],
   "source": [
    "print(res_iv3.wu_hausman())\n"
   ]
  },
  {
   "cell_type": "code",
   "execution_count": 167,
   "id": "afdafffd",
   "metadata": {},
   "outputs": [
    {
     "name": "stdout",
     "output_type": "stream",
     "text": [
      "Invalid test statistic\n",
      "Test requires more instruments than endogenous variables.\n",
      "Sargan's test of overidentification\n"
     ]
    }
   ],
   "source": [
    "print(res_iv3.sargan)\n"
   ]
  },
  {
   "cell_type": "markdown",
   "id": "c162ba6f",
   "metadata": {},
   "source": [
    "Относительно тестов Хаусмана - гипотезы о эндогенности отвергаются, но это может связанно как с невалидностью инструмента, так с эндогенностью регрессора."
   ]
  }
 ],
 "metadata": {
  "kernelspec": {
   "display_name": "Python 3 (ipykernel)",
   "language": "python",
   "name": "python3"
  },
  "language_info": {
   "codemirror_mode": {
    "name": "ipython",
    "version": 3
   },
   "file_extension": ".py",
   "mimetype": "text/x-python",
   "name": "python",
   "nbconvert_exporter": "python",
   "pygments_lexer": "ipython3",
   "version": "3.9.13"
  }
 },
 "nbformat": 4,
 "nbformat_minor": 5
}
