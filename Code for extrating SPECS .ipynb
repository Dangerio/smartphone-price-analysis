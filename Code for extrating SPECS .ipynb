{
 "cells": [
  {
   "cell_type": "code",
   "execution_count": 251,
   "id": "27c02b6a",
   "metadata": {},
   "outputs": [],
   "source": [
    "import pandas as pd\n",
    "import numpy as np\n",
    "pd.set_option('display.max_rows', None)"
   ]
  },
  {
   "cell_type": "code",
   "execution_count": 277,
   "id": "829ab416",
   "metadata": {
    "scrolled": true
   },
   "outputs": [
    {
     "name": "stdout",
     "output_type": "stream",
     "text": [
      "Int64Index([338], dtype='int64')\n",
      "Int64Index([339], dtype='int64')\n",
      "Int64Index([614], dtype='int64')\n",
      "Int64Index([857], dtype='int64')\n",
      "Int64Index([858], dtype='int64')\n",
      "Int64Index([945], dtype='int64')\n"
     ]
    }
   ],
   "source": [
    "df = pd.read_csv('PhonesPriceInKenya_v2.csv')\n",
    "df['Display (inch)'] = np.nan\n",
    "df['Display resolution'] = np.nan\n",
    "df['Camera'] = np.nan\n",
    "df['Operational system'] = np.nan\n",
    "df['Storage (GB)'] = np.nan\n",
    "df['RAM (GB)'] = np.nan\n",
    "df['Battery (mAh)'] = np.nan\n",
    "df['Battery type'] = np.nan\n",
    "for num, i in df.iterrows():\n",
    "    specs = i['Specs'].split(',')\n",
    "    if len(specs) == 8:\n",
    "        i['Display (inch)'] = ''.join(filter(str.isdigit, specs[0]))\n",
    "        i['Display resolution'] = specs[1].replace(' pixels', '')\n",
    "        i['Camera'] = ''.join(filter(str.isdigit, specs[2]))\n",
    "        i['Operational system'] = specs[3].replace('OS:', '')\n",
    "        i['Storage (GB)'] = ''.join(filter(str.isdigit, specs[4]))\n",
    "        i['RAM (GB)'] = ''.join(filter(str.isdigit, specs[5]))\n",
    "        i['Battery (mAh)'] = ''.join(filter(str.isdigit, specs[6]))\n",
    "        i['Battery type'] = specs[7]\n",
    "        df.loc[num] = i\n",
    "    elif specs[4] == ' One UI':\n",
    "        i['Display (inch)'] = ''.join(filter(str.isdigit, specs[0])) \n",
    "        i['Display resolution'] = specs[1].replace(' pixels', '')\n",
    "        i['Camera'] = ''.join(filter(str.isdigit, specs[2]))\n",
    "        i['Operational system'] = specs[3].replace('OS:', '')\n",
    "        i['Storage (GB)'] = ''.join(filter(str.isdigit, specs[4] + specs[5]))\n",
    "        i['RAM (GB)'] = ''.join(filter(str.isdigit,specs[6])) \n",
    "        i['Battery (mAh)'] = ''.join(filter(str.isdigit,specs[7])) \n",
    "        i['Battery type'] = ''.join(filter(str.isdigit,specs[8])) \n",
    "        df.loc[num] = i\n",
    "    elif specs[2] == 'Front Camera:TripleOS:Android 9.0 Pie' or specs[2] =='Front Camera:VGAOS:Android 6.0 Marshmallow':\n",
    "        i['Display (inch)'] = ''.join(filter(str.isdigit,specs[0])) \n",
    "        i['Display resolution'] = specs[1].replace(' pixels', '')\n",
    "        i['Camera'] = ''.join(filter(str.isdigit, specs[2].split('Android')[0]))\n",
    "        i['Operational system'] = 'Android' + specs[2].split('Android')[1].replace('OS:', '')\n",
    "        i['Storage (GB)'] = ''.join(filter(str.isdigit, specs[3]))\n",
    "        i['RAM (GB)'] = ''.join(filter(str.isdigit, specs[4])) \n",
    "        i['Battery (mAh)'] = ''.join(filter(str.isdigit, specs[5])) \n",
    "        i['Battery type'] = ''.join(filter(str.isdigit, specs[6])) \n",
    "        df.loc[num] = i\n",
    "    elif specs[3].find('+') == 1:\n",
    "        i['Display (inch)'] = ''.join(filter(str.isdigit, specs[0])) \n",
    "        i['Display resolution'] = specs[1].replace(' pixels', '')\n",
    "        i['Camera'] = ''.join(filter(str.isdigit, specs[2] + specs[3])) \n",
    "        i['Operational system'] = specs[4].replace('OS:', '')\n",
    "        i['Storage (GB)'] = ''.join(filter(str.isdigit, specs[5])) \n",
    "        i['RAM (GB)'] = ''.join(filter(str.isdigit, specs[6])) \n",
    "        i['Battery (mAh)'] = ''.join(filter(str.isdigit, specs[7])) \n",
    "        i['Battery type'] = ''.join(filter(str.isdigit, specs[8])) \n",
    "        df.loc[num] = i\n",
    "    elif specs[6] == 'Battery:-':\n",
    "        i['Display (inch)'] = ''.join(filter(str.isdigit, specs[0])) \n",
    "        i['Display resolution'] = specs[1].replace(' pixels', '')\n",
    "        i['Camera'] = ''.join(filter(str.isdigit, specs[1] + specs[2])) \n",
    "        i['Operational system'] = specs[3].replace('OS:', '')\n",
    "        i['Storage (GB)'] = ''.join(filter(str.isdigit, specs[4])) \n",
    "        i['RAM (GB)'] = ''.join(filter(str.isdigit, specs[5])) \n",
    "        i['Battery (mAh)'] = np.nan\n",
    "        i['Battery type'] = np.nan\n",
    "        df.loc[num] = i\n",
    "    elif specs[2] == 'Front Camera:NoOS:-' or specs[2] == 'Front Camera:VGAOS:Android 5.1 Lollipop' or specs[2] == 'Front Camera:NoOS:KaiOS:':\n",
    "        i['Display (inch)'] = ''.join(filter(str.isdigit, specs[0])) \n",
    "        i['Display resolution'] = specs[1].replace(' pixels', '')\n",
    "        i['Camera'] = ''.join(filter(str.isdigit, specs[2].split(':')[1]))\n",
    "        i['Operational system'] = specs[2].split(':')[2].replace('OS:', '')\n",
    "        i['Storage (GB)'] = ''.join(filter(str.isdigit, specs[5]))\n",
    "        i['RAM (GB)'] = ''.join(filter(str.isdigit, specs[6]))\n",
    "        i['Battery (mAh)'] = np.nan\n",
    "        i['Battery type'] = np.nan\n",
    "        df.loc[num] = i\n",
    "    elif len(specs) == 7 and specs[-1] == ' Li-Ion':\n",
    "\n",
    "        i['Display (inch)'] = ''.join(filter(str.isdigit, specs[0]))\n",
    "        i['Display resolution'] = specs[1].replace(' pixels', '')\n",
    "        i['Camera'] = ''.join(filter(str.isdigit, specs[2]))\n",
    "        i['Operational system'] = np.nan\n",
    "        i['Storage (GB)'] = ''.join(filter(str.isdigit, specs[3]))\n",
    "        i['RAM (GB)'] = ''.join(filter(str.isdigit, specs[4]))\n",
    "        i['Battery (mAh)'] = ''.join(filter(str.isdigit, specs[5]))\n",
    "        i['Battery type'] = ''.join(filter(str.isdigit, specs[6]))\n",
    "        df.loc[num] = i\n",
    "    elif len(specs) > 9:\n",
    "        print(df[df['Specs'] == i['Specs']].index)\n",
    "    elif len(specs) == 9:\n",
    "        i['Display (inch)'] = ''.join(filter(str.isdigit, specs[0])) \n",
    "        i['Display resolution'] = specs[1].replace(' pixels', '')\n",
    "        i['Camera'] = ''.join(filter(str.isdigit, specs[2]))\n",
    "        string = specs[3] + specs[4]\n",
    "        i['Operational system'] = string.replace('OS:', '')\n",
    "        i['Storage (GB)'] = ''.join(filter(str.isdigit, specs[5])) \n",
    "        i['RAM (GB)'] = ''.join(filter(str.isdigit, specs[6])) \n",
    "        i['Battery (mAh)'] = ''.join(filter(str.isdigit, specs[7]))\n",
    "        i['Battery type'] = ''.join(filter(str.isdigit, specs[8])) \n",
    "        df.loc[num] = i\n",
    "    elif specs[-1] == ' Li-Ion' or specs[-1] == ' Li-Po':\n",
    "        i['Display (inch)'] = ''.join(filter(str.isdigit, specs[0]))\n",
    "        i['Display resolution'] = specs[1].replace(' pixels', '')\n",
    "        i['Camera'] = ''.join(filter(str.isdigit, specs[2]))\n",
    "        i['Operational system'] = np.nan\n",
    "        i['Storage (GB)'] = ''.join(filter(str.isdigit, specs[3]))\n",
    "        i['RAM (GB)'] = ''.join(filter(str.isdigit, specs[4]))\n",
    "        i['Battery (mAh)'] = ''.join(filter(str.isdigit, specs[5]))\n",
    "        i['Battery type'] = ''.join(filter(str.isdigit, specs[6]))\n",
    "        df.loc[num] = i\n",
    "    elif len(specs) == 7:\n",
    "        i['Display (inch)'] = ''.join(filter(str.isdigit, specs[0]))\n",
    "        i['Display resolution'] = specs[1].replace(' pixels', '')\n",
    "        i['Camera'] = ''.join(filter(str.isdigit, specs[2]))\n",
    "        i['Operational system'] = specs[3].replace('OS:', '')\n",
    "        i['Storage (GB)'] = ''.join(filter(str.isdigit, specs[4]))\n",
    "        i['RAM (GB)'] = ''.join(filter(str.isdigit, specs[5]))\n",
    "        i['Battery (mAh)'] = ''.join(filter(str.isdigit, specs[6]))\n",
    "        i['Battery type'] = np.nan\n",
    "        df.loc[num] = i\n",
    "\n",
    "    else:\n",
    "        print(specs)\n",
    "        print(len(specs))\n",
    "\n",
    "            \n",
    "            \n",
    "    "
   ]
  },
  {
   "cell_type": "code",
   "execution_count": 256,
   "id": "419d9fc2",
   "metadata": {},
   "outputs": [],
   "source": [
    "df = df.replace('', np.nan)\n",
    "df = df.replace('-', np.nan)\n",
    "df = df.replace(';', '')"
   ]
  },
  {
   "cell_type": "code",
   "execution_count": 258,
   "id": "21e2c763",
   "metadata": {},
   "outputs": [],
   "source": [
    "df[\"Display (inch)\"] = pd.to_numeric(df[\"Display (inch)\"])\n",
    "df[\"Camera\"] = pd.to_numeric(df[\"Camera\"])\n",
    "df[\"Storage (GB)\"] = pd.to_numeric(df[\"Storage (GB)\"])\n",
    "df[\"RAM (GB)\"] = pd.to_numeric(df[\"RAM (GB)\"])\n",
    "df[\"Battery (mAh)\"] = pd.to_numeric(df[\"Battery (mAh)\"])\n",
    "df['Operational system'] = df['Operational system'].astype(str)\n",
    "\n"
   ]
  },
  {
   "cell_type": "code",
   "execution_count": 259,
   "id": "8462a4aa",
   "metadata": {},
   "outputs": [
    {
     "name": "stderr",
     "output_type": "stream",
     "text": [
      "C:\\Users\\Alexandr\\AppData\\Local\\Temp\\ipykernel_16088\\170457099.py:6: SettingWithCopyWarning: \n",
      "A value is trying to be set on a copy of a slice from a DataFrame\n",
      "\n",
      "See the caveats in the documentation: https://pandas.pydata.org/pandas-docs/stable/user_guide/indexing.html#returning-a-view-versus-a-copy\n",
      "  disp_row[num] =  i['Display (inch)']/10\n",
      "C:\\Users\\Alexandr\\AppData\\Local\\Temp\\ipykernel_16088\\170457099.py:4: SettingWithCopyWarning: \n",
      "A value is trying to be set on a copy of a slice from a DataFrame\n",
      "\n",
      "See the caveats in the documentation: https://pandas.pydata.org/pandas-docs/stable/user_guide/indexing.html#returning-a-view-versus-a-copy\n",
      "  disp_row[num] = i['Display (inch)']/100\n"
     ]
    }
   ],
   "source": [
    "disp_row = df['Display (inch)']\n",
    "for num, i in df.iterrows():\n",
    "    if i['Display (inch)'] > 100:\n",
    "        disp_row[num] = i['Display (inch)']/100\n",
    "    elif i['Display (inch)'] < 100:\n",
    "        disp_row[num] =  i['Display (inch)']/10"
   ]
  },
  {
   "cell_type": "code",
   "execution_count": 260,
   "id": "b7aaf767",
   "metadata": {},
   "outputs": [],
   "source": [
    "df['Display (inch)'] = disp_row"
   ]
  },
  {
   "cell_type": "code",
   "execution_count": 243,
   "id": "1bc1d77d",
   "metadata": {},
   "outputs": [],
   "source": [
    "# df['Version of OpSys'] = np.nan\n",
    "# df['Code name of OpSys'] = np.nan\n",
    "\n",
    "# row_os = df['Operational system']\n",
    "# row_vn = df['Version of OpSys']\n",
    "# row_cn = df['Version of OpSys']\n",
    "\n",
    "# for num, row in df.iterrows():\n",
    "#     if len(row['Operational system'].split(' ')) == 3:\n",
    "#         row_os_it, row_vn_it, row_cn_it = row['Operational system'].split(' ')\n",
    "#         row_os[num] = row_os_it\n",
    "#         row_vn[num] = row_vn_it\n",
    "#         row_cn[num] = row_cn_it\n",
    "#     else: \n",
    "#         print(row['Operational system'])\n",
    "# df['Operational system'] = row_os\n",
    "# df['Version of OpSys'] = row_vn\n",
    "# df['Code name of OpSys'] = row_cn\n"
   ]
  },
  {
   "cell_type": "code",
   "execution_count": 261,
   "id": "f5b64fbd",
   "metadata": {},
   "outputs": [
    {
     "name": "stderr",
     "output_type": "stream",
     "text": [
      "C:\\Users\\Alexandr\\AppData\\Local\\Temp\\ipykernel_16088\\825788996.py:6: SettingWithCopyWarning: \n",
      "A value is trying to be set on a copy of a slice from a DataFrame\n",
      "\n",
      "See the caveats in the documentation: https://pandas.pydata.org/pandas-docs/stable/user_guide/indexing.html#returning-a-view-versus-a-copy\n",
      "  row_os[num] = row['Operational system']\n"
     ]
    }
   ],
   "source": [
    "row_os = df['Operational system']\n",
    "for num, row in df.iterrows():\n",
    "    if row['Operational system'].find(';') == 1:\n",
    "        row_os[num] = row['Operational system'].replace(';', '')\n",
    "    else:\n",
    "        row_os[num] = row['Operational system']"
   ]
  },
  {
   "cell_type": "code",
   "execution_count": 264,
   "id": "94607bf0",
   "metadata": {
    "scrolled": false
   },
   "outputs": [],
   "source": [
    "df.to_csv('PhonesDF.csv', encoding='utf-8')\n"
   ]
  }
 ],
 "metadata": {
  "kernelspec": {
   "display_name": "Python 3 (ipykernel)",
   "language": "python",
   "name": "python3"
  },
  "language_info": {
   "codemirror_mode": {
    "name": "ipython",
    "version": 3
   },
   "file_extension": ".py",
   "mimetype": "text/x-python",
   "name": "python",
   "nbconvert_exporter": "python",
   "pygments_lexer": "ipython3",
   "version": "3.9.13"
  }
 },
 "nbformat": 4,
 "nbformat_minor": 5
}
